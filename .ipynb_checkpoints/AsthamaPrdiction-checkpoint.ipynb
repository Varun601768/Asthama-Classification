{
 "cells": [
  {
   "cell_type": "code",
   "execution_count": 2,
   "id": "3298c8c2-2031-41ac-8f98-fa11b005b557",
   "metadata": {},
   "outputs": [],
   "source": [
    "import pandas as pd\n",
    "import numpy as np\n",
    "import matplotlib.pyplot as plt"
   ]
  },
  {
   "cell_type": "code",
   "execution_count": 3,
   "id": "df85fbcf-4707-40ca-b5b7-03dc79b48df1",
   "metadata": {},
   "outputs": [],
   "source": [
    "df=pd.read_csv(r\"C:\\Users\\varun\\Downloads\\asthma_disease_data.csv\")"
   ]
  },
  {
   "cell_type": "code",
   "execution_count": 4,
   "id": "f9dfbfc1-2e91-454b-9e09-d9e8d7484a14",
   "metadata": {},
   "outputs": [
    {
     "data": {
      "text/html": [
       "<div>\n",
       "<style scoped>\n",
       "    .dataframe tbody tr th:only-of-type {\n",
       "        vertical-align: middle;\n",
       "    }\n",
       "\n",
       "    .dataframe tbody tr th {\n",
       "        vertical-align: top;\n",
       "    }\n",
       "\n",
       "    .dataframe thead th {\n",
       "        text-align: right;\n",
       "    }\n",
       "</style>\n",
       "<table border=\"1\" class=\"dataframe\">\n",
       "  <thead>\n",
       "    <tr style=\"text-align: right;\">\n",
       "      <th></th>\n",
       "      <th>PatientID</th>\n",
       "      <th>Age</th>\n",
       "      <th>Gender</th>\n",
       "      <th>Ethnicity</th>\n",
       "      <th>EducationLevel</th>\n",
       "      <th>BMI</th>\n",
       "      <th>Smoking</th>\n",
       "      <th>PhysicalActivity</th>\n",
       "      <th>DietQuality</th>\n",
       "      <th>SleepQuality</th>\n",
       "      <th>...</th>\n",
       "      <th>LungFunctionFEV1</th>\n",
       "      <th>LungFunctionFVC</th>\n",
       "      <th>Wheezing</th>\n",
       "      <th>ShortnessOfBreath</th>\n",
       "      <th>ChestTightness</th>\n",
       "      <th>Coughing</th>\n",
       "      <th>NighttimeSymptoms</th>\n",
       "      <th>ExerciseInduced</th>\n",
       "      <th>Diagnosis</th>\n",
       "      <th>DoctorInCharge</th>\n",
       "    </tr>\n",
       "  </thead>\n",
       "  <tbody>\n",
       "    <tr>\n",
       "      <th>0</th>\n",
       "      <td>5034</td>\n",
       "      <td>63</td>\n",
       "      <td>0</td>\n",
       "      <td>1</td>\n",
       "      <td>0</td>\n",
       "      <td>15.848744</td>\n",
       "      <td>0</td>\n",
       "      <td>0.894448</td>\n",
       "      <td>5.488696</td>\n",
       "      <td>8.701003</td>\n",
       "      <td>...</td>\n",
       "      <td>1.369051</td>\n",
       "      <td>4.941206</td>\n",
       "      <td>0</td>\n",
       "      <td>0</td>\n",
       "      <td>1</td>\n",
       "      <td>0</td>\n",
       "      <td>0</td>\n",
       "      <td>1</td>\n",
       "      <td>0</td>\n",
       "      <td>Dr_Confid</td>\n",
       "    </tr>\n",
       "    <tr>\n",
       "      <th>1</th>\n",
       "      <td>5035</td>\n",
       "      <td>26</td>\n",
       "      <td>1</td>\n",
       "      <td>2</td>\n",
       "      <td>2</td>\n",
       "      <td>22.757042</td>\n",
       "      <td>0</td>\n",
       "      <td>5.897329</td>\n",
       "      <td>6.341014</td>\n",
       "      <td>5.153966</td>\n",
       "      <td>...</td>\n",
       "      <td>2.197767</td>\n",
       "      <td>1.702393</td>\n",
       "      <td>1</td>\n",
       "      <td>0</td>\n",
       "      <td>0</td>\n",
       "      <td>1</td>\n",
       "      <td>1</td>\n",
       "      <td>1</td>\n",
       "      <td>0</td>\n",
       "      <td>Dr_Confid</td>\n",
       "    </tr>\n",
       "    <tr>\n",
       "      <th>2</th>\n",
       "      <td>5036</td>\n",
       "      <td>57</td>\n",
       "      <td>0</td>\n",
       "      <td>2</td>\n",
       "      <td>1</td>\n",
       "      <td>18.395396</td>\n",
       "      <td>0</td>\n",
       "      <td>6.739367</td>\n",
       "      <td>9.196237</td>\n",
       "      <td>6.840647</td>\n",
       "      <td>...</td>\n",
       "      <td>1.698011</td>\n",
       "      <td>5.022553</td>\n",
       "      <td>1</td>\n",
       "      <td>1</td>\n",
       "      <td>1</td>\n",
       "      <td>0</td>\n",
       "      <td>1</td>\n",
       "      <td>1</td>\n",
       "      <td>0</td>\n",
       "      <td>Dr_Confid</td>\n",
       "    </tr>\n",
       "    <tr>\n",
       "      <th>3</th>\n",
       "      <td>5037</td>\n",
       "      <td>40</td>\n",
       "      <td>1</td>\n",
       "      <td>2</td>\n",
       "      <td>1</td>\n",
       "      <td>38.515278</td>\n",
       "      <td>0</td>\n",
       "      <td>1.404503</td>\n",
       "      <td>5.826532</td>\n",
       "      <td>4.253036</td>\n",
       "      <td>...</td>\n",
       "      <td>3.032037</td>\n",
       "      <td>2.300159</td>\n",
       "      <td>1</td>\n",
       "      <td>0</td>\n",
       "      <td>1</td>\n",
       "      <td>1</td>\n",
       "      <td>1</td>\n",
       "      <td>0</td>\n",
       "      <td>0</td>\n",
       "      <td>Dr_Confid</td>\n",
       "    </tr>\n",
       "    <tr>\n",
       "      <th>4</th>\n",
       "      <td>5038</td>\n",
       "      <td>61</td>\n",
       "      <td>0</td>\n",
       "      <td>0</td>\n",
       "      <td>3</td>\n",
       "      <td>19.283802</td>\n",
       "      <td>0</td>\n",
       "      <td>4.604493</td>\n",
       "      <td>3.127048</td>\n",
       "      <td>9.625799</td>\n",
       "      <td>...</td>\n",
       "      <td>3.470589</td>\n",
       "      <td>3.067944</td>\n",
       "      <td>1</td>\n",
       "      <td>1</td>\n",
       "      <td>1</td>\n",
       "      <td>0</td>\n",
       "      <td>0</td>\n",
       "      <td>1</td>\n",
       "      <td>0</td>\n",
       "      <td>Dr_Confid</td>\n",
       "    </tr>\n",
       "    <tr>\n",
       "      <th>...</th>\n",
       "      <td>...</td>\n",
       "      <td>...</td>\n",
       "      <td>...</td>\n",
       "      <td>...</td>\n",
       "      <td>...</td>\n",
       "      <td>...</td>\n",
       "      <td>...</td>\n",
       "      <td>...</td>\n",
       "      <td>...</td>\n",
       "      <td>...</td>\n",
       "      <td>...</td>\n",
       "      <td>...</td>\n",
       "      <td>...</td>\n",
       "      <td>...</td>\n",
       "      <td>...</td>\n",
       "      <td>...</td>\n",
       "      <td>...</td>\n",
       "      <td>...</td>\n",
       "      <td>...</td>\n",
       "      <td>...</td>\n",
       "      <td>...</td>\n",
       "    </tr>\n",
       "    <tr>\n",
       "      <th>2387</th>\n",
       "      <td>7421</td>\n",
       "      <td>43</td>\n",
       "      <td>1</td>\n",
       "      <td>0</td>\n",
       "      <td>2</td>\n",
       "      <td>29.059613</td>\n",
       "      <td>0</td>\n",
       "      <td>3.019854</td>\n",
       "      <td>6.119637</td>\n",
       "      <td>8.300960</td>\n",
       "      <td>...</td>\n",
       "      <td>3.125249</td>\n",
       "      <td>5.166032</td>\n",
       "      <td>0</td>\n",
       "      <td>1</td>\n",
       "      <td>0</td>\n",
       "      <td>0</td>\n",
       "      <td>0</td>\n",
       "      <td>1</td>\n",
       "      <td>1</td>\n",
       "      <td>Dr_Confid</td>\n",
       "    </tr>\n",
       "    <tr>\n",
       "      <th>2388</th>\n",
       "      <td>7422</td>\n",
       "      <td>18</td>\n",
       "      <td>1</td>\n",
       "      <td>0</td>\n",
       "      <td>1</td>\n",
       "      <td>20.740850</td>\n",
       "      <td>0</td>\n",
       "      <td>5.805180</td>\n",
       "      <td>4.386992</td>\n",
       "      <td>7.731192</td>\n",
       "      <td>...</td>\n",
       "      <td>1.132977</td>\n",
       "      <td>5.509502</td>\n",
       "      <td>0</td>\n",
       "      <td>0</td>\n",
       "      <td>0</td>\n",
       "      <td>1</td>\n",
       "      <td>1</td>\n",
       "      <td>0</td>\n",
       "      <td>1</td>\n",
       "      <td>Dr_Confid</td>\n",
       "    </tr>\n",
       "    <tr>\n",
       "      <th>2389</th>\n",
       "      <td>7423</td>\n",
       "      <td>54</td>\n",
       "      <td>0</td>\n",
       "      <td>3</td>\n",
       "      <td>2</td>\n",
       "      <td>37.079560</td>\n",
       "      <td>0</td>\n",
       "      <td>4.735169</td>\n",
       "      <td>8.214064</td>\n",
       "      <td>7.483521</td>\n",
       "      <td>...</td>\n",
       "      <td>1.685962</td>\n",
       "      <td>3.346877</td>\n",
       "      <td>1</td>\n",
       "      <td>0</td>\n",
       "      <td>1</td>\n",
       "      <td>1</td>\n",
       "      <td>0</td>\n",
       "      <td>1</td>\n",
       "      <td>1</td>\n",
       "      <td>Dr_Confid</td>\n",
       "    </tr>\n",
       "    <tr>\n",
       "      <th>2390</th>\n",
       "      <td>7424</td>\n",
       "      <td>46</td>\n",
       "      <td>1</td>\n",
       "      <td>0</td>\n",
       "      <td>2</td>\n",
       "      <td>23.444712</td>\n",
       "      <td>0</td>\n",
       "      <td>9.672637</td>\n",
       "      <td>7.362861</td>\n",
       "      <td>6.717272</td>\n",
       "      <td>...</td>\n",
       "      <td>3.481549</td>\n",
       "      <td>1.713274</td>\n",
       "      <td>0</td>\n",
       "      <td>1</td>\n",
       "      <td>1</td>\n",
       "      <td>0</td>\n",
       "      <td>1</td>\n",
       "      <td>1</td>\n",
       "      <td>0</td>\n",
       "      <td>Dr_Confid</td>\n",
       "    </tr>\n",
       "    <tr>\n",
       "      <th>2391</th>\n",
       "      <td>7425</td>\n",
       "      <td>26</td>\n",
       "      <td>1</td>\n",
       "      <td>0</td>\n",
       "      <td>0</td>\n",
       "      <td>28.123021</td>\n",
       "      <td>1</td>\n",
       "      <td>1.613138</td>\n",
       "      <td>7.412878</td>\n",
       "      <td>8.512253</td>\n",
       "      <td>...</td>\n",
       "      <td>2.280613</td>\n",
       "      <td>2.453284</td>\n",
       "      <td>1</td>\n",
       "      <td>1</td>\n",
       "      <td>0</td>\n",
       "      <td>0</td>\n",
       "      <td>1</td>\n",
       "      <td>0</td>\n",
       "      <td>0</td>\n",
       "      <td>Dr_Confid</td>\n",
       "    </tr>\n",
       "  </tbody>\n",
       "</table>\n",
       "<p>2392 rows × 29 columns</p>\n",
       "</div>"
      ],
      "text/plain": [
       "      PatientID  Age  Gender  Ethnicity  EducationLevel        BMI  Smoking  \\\n",
       "0          5034   63       0          1               0  15.848744        0   \n",
       "1          5035   26       1          2               2  22.757042        0   \n",
       "2          5036   57       0          2               1  18.395396        0   \n",
       "3          5037   40       1          2               1  38.515278        0   \n",
       "4          5038   61       0          0               3  19.283802        0   \n",
       "...         ...  ...     ...        ...             ...        ...      ...   \n",
       "2387       7421   43       1          0               2  29.059613        0   \n",
       "2388       7422   18       1          0               1  20.740850        0   \n",
       "2389       7423   54       0          3               2  37.079560        0   \n",
       "2390       7424   46       1          0               2  23.444712        0   \n",
       "2391       7425   26       1          0               0  28.123021        1   \n",
       "\n",
       "      PhysicalActivity  DietQuality  SleepQuality  ...  LungFunctionFEV1  \\\n",
       "0             0.894448     5.488696      8.701003  ...          1.369051   \n",
       "1             5.897329     6.341014      5.153966  ...          2.197767   \n",
       "2             6.739367     9.196237      6.840647  ...          1.698011   \n",
       "3             1.404503     5.826532      4.253036  ...          3.032037   \n",
       "4             4.604493     3.127048      9.625799  ...          3.470589   \n",
       "...                ...          ...           ...  ...               ...   \n",
       "2387          3.019854     6.119637      8.300960  ...          3.125249   \n",
       "2388          5.805180     4.386992      7.731192  ...          1.132977   \n",
       "2389          4.735169     8.214064      7.483521  ...          1.685962   \n",
       "2390          9.672637     7.362861      6.717272  ...          3.481549   \n",
       "2391          1.613138     7.412878      8.512253  ...          2.280613   \n",
       "\n",
       "      LungFunctionFVC  Wheezing  ShortnessOfBreath  ChestTightness  Coughing  \\\n",
       "0            4.941206         0                  0               1         0   \n",
       "1            1.702393         1                  0               0         1   \n",
       "2            5.022553         1                  1               1         0   \n",
       "3            2.300159         1                  0               1         1   \n",
       "4            3.067944         1                  1               1         0   \n",
       "...               ...       ...                ...             ...       ...   \n",
       "2387         5.166032         0                  1               0         0   \n",
       "2388         5.509502         0                  0               0         1   \n",
       "2389         3.346877         1                  0               1         1   \n",
       "2390         1.713274         0                  1               1         0   \n",
       "2391         2.453284         1                  1               0         0   \n",
       "\n",
       "      NighttimeSymptoms  ExerciseInduced  Diagnosis  DoctorInCharge  \n",
       "0                     0                1          0       Dr_Confid  \n",
       "1                     1                1          0       Dr_Confid  \n",
       "2                     1                1          0       Dr_Confid  \n",
       "3                     1                0          0       Dr_Confid  \n",
       "4                     0                1          0       Dr_Confid  \n",
       "...                 ...              ...        ...             ...  \n",
       "2387                  0                1          1       Dr_Confid  \n",
       "2388                  1                0          1       Dr_Confid  \n",
       "2389                  0                1          1       Dr_Confid  \n",
       "2390                  1                1          0       Dr_Confid  \n",
       "2391                  1                0          0       Dr_Confid  \n",
       "\n",
       "[2392 rows x 29 columns]"
      ]
     },
     "execution_count": 4,
     "metadata": {},
     "output_type": "execute_result"
    }
   ],
   "source": [
    "df"
   ]
  },
  {
   "cell_type": "markdown",
   "id": "9b848404-770f-4e37-9cf6-dcc48b6c498e",
   "metadata": {},
   "source": [
    "# inspection"
   ]
  },
  {
   "cell_type": "code",
   "execution_count": 5,
   "id": "8bfe44b6-b151-47ad-bc5f-fcd07e20dc86",
   "metadata": {},
   "outputs": [
    {
     "data": {
      "text/html": [
       "<div>\n",
       "<style scoped>\n",
       "    .dataframe tbody tr th:only-of-type {\n",
       "        vertical-align: middle;\n",
       "    }\n",
       "\n",
       "    .dataframe tbody tr th {\n",
       "        vertical-align: top;\n",
       "    }\n",
       "\n",
       "    .dataframe thead th {\n",
       "        text-align: right;\n",
       "    }\n",
       "</style>\n",
       "<table border=\"1\" class=\"dataframe\">\n",
       "  <thead>\n",
       "    <tr style=\"text-align: right;\">\n",
       "      <th></th>\n",
       "      <th>PatientID</th>\n",
       "      <th>Age</th>\n",
       "      <th>Gender</th>\n",
       "      <th>Ethnicity</th>\n",
       "      <th>EducationLevel</th>\n",
       "      <th>BMI</th>\n",
       "      <th>Smoking</th>\n",
       "      <th>PhysicalActivity</th>\n",
       "      <th>DietQuality</th>\n",
       "      <th>SleepQuality</th>\n",
       "      <th>...</th>\n",
       "      <th>LungFunctionFEV1</th>\n",
       "      <th>LungFunctionFVC</th>\n",
       "      <th>Wheezing</th>\n",
       "      <th>ShortnessOfBreath</th>\n",
       "      <th>ChestTightness</th>\n",
       "      <th>Coughing</th>\n",
       "      <th>NighttimeSymptoms</th>\n",
       "      <th>ExerciseInduced</th>\n",
       "      <th>Diagnosis</th>\n",
       "      <th>DoctorInCharge</th>\n",
       "    </tr>\n",
       "  </thead>\n",
       "  <tbody>\n",
       "    <tr>\n",
       "      <th>0</th>\n",
       "      <td>5034</td>\n",
       "      <td>63</td>\n",
       "      <td>0</td>\n",
       "      <td>1</td>\n",
       "      <td>0</td>\n",
       "      <td>15.848744</td>\n",
       "      <td>0</td>\n",
       "      <td>0.894448</td>\n",
       "      <td>5.488696</td>\n",
       "      <td>8.701003</td>\n",
       "      <td>...</td>\n",
       "      <td>1.369051</td>\n",
       "      <td>4.941206</td>\n",
       "      <td>0</td>\n",
       "      <td>0</td>\n",
       "      <td>1</td>\n",
       "      <td>0</td>\n",
       "      <td>0</td>\n",
       "      <td>1</td>\n",
       "      <td>0</td>\n",
       "      <td>Dr_Confid</td>\n",
       "    </tr>\n",
       "    <tr>\n",
       "      <th>1</th>\n",
       "      <td>5035</td>\n",
       "      <td>26</td>\n",
       "      <td>1</td>\n",
       "      <td>2</td>\n",
       "      <td>2</td>\n",
       "      <td>22.757042</td>\n",
       "      <td>0</td>\n",
       "      <td>5.897329</td>\n",
       "      <td>6.341014</td>\n",
       "      <td>5.153966</td>\n",
       "      <td>...</td>\n",
       "      <td>2.197767</td>\n",
       "      <td>1.702393</td>\n",
       "      <td>1</td>\n",
       "      <td>0</td>\n",
       "      <td>0</td>\n",
       "      <td>1</td>\n",
       "      <td>1</td>\n",
       "      <td>1</td>\n",
       "      <td>0</td>\n",
       "      <td>Dr_Confid</td>\n",
       "    </tr>\n",
       "    <tr>\n",
       "      <th>2</th>\n",
       "      <td>5036</td>\n",
       "      <td>57</td>\n",
       "      <td>0</td>\n",
       "      <td>2</td>\n",
       "      <td>1</td>\n",
       "      <td>18.395396</td>\n",
       "      <td>0</td>\n",
       "      <td>6.739367</td>\n",
       "      <td>9.196237</td>\n",
       "      <td>6.840647</td>\n",
       "      <td>...</td>\n",
       "      <td>1.698011</td>\n",
       "      <td>5.022553</td>\n",
       "      <td>1</td>\n",
       "      <td>1</td>\n",
       "      <td>1</td>\n",
       "      <td>0</td>\n",
       "      <td>1</td>\n",
       "      <td>1</td>\n",
       "      <td>0</td>\n",
       "      <td>Dr_Confid</td>\n",
       "    </tr>\n",
       "    <tr>\n",
       "      <th>3</th>\n",
       "      <td>5037</td>\n",
       "      <td>40</td>\n",
       "      <td>1</td>\n",
       "      <td>2</td>\n",
       "      <td>1</td>\n",
       "      <td>38.515278</td>\n",
       "      <td>0</td>\n",
       "      <td>1.404503</td>\n",
       "      <td>5.826532</td>\n",
       "      <td>4.253036</td>\n",
       "      <td>...</td>\n",
       "      <td>3.032037</td>\n",
       "      <td>2.300159</td>\n",
       "      <td>1</td>\n",
       "      <td>0</td>\n",
       "      <td>1</td>\n",
       "      <td>1</td>\n",
       "      <td>1</td>\n",
       "      <td>0</td>\n",
       "      <td>0</td>\n",
       "      <td>Dr_Confid</td>\n",
       "    </tr>\n",
       "    <tr>\n",
       "      <th>4</th>\n",
       "      <td>5038</td>\n",
       "      <td>61</td>\n",
       "      <td>0</td>\n",
       "      <td>0</td>\n",
       "      <td>3</td>\n",
       "      <td>19.283802</td>\n",
       "      <td>0</td>\n",
       "      <td>4.604493</td>\n",
       "      <td>3.127048</td>\n",
       "      <td>9.625799</td>\n",
       "      <td>...</td>\n",
       "      <td>3.470589</td>\n",
       "      <td>3.067944</td>\n",
       "      <td>1</td>\n",
       "      <td>1</td>\n",
       "      <td>1</td>\n",
       "      <td>0</td>\n",
       "      <td>0</td>\n",
       "      <td>1</td>\n",
       "      <td>0</td>\n",
       "      <td>Dr_Confid</td>\n",
       "    </tr>\n",
       "  </tbody>\n",
       "</table>\n",
       "<p>5 rows × 29 columns</p>\n",
       "</div>"
      ],
      "text/plain": [
       "   PatientID  Age  Gender  Ethnicity  EducationLevel        BMI  Smoking  \\\n",
       "0       5034   63       0          1               0  15.848744        0   \n",
       "1       5035   26       1          2               2  22.757042        0   \n",
       "2       5036   57       0          2               1  18.395396        0   \n",
       "3       5037   40       1          2               1  38.515278        0   \n",
       "4       5038   61       0          0               3  19.283802        0   \n",
       "\n",
       "   PhysicalActivity  DietQuality  SleepQuality  ...  LungFunctionFEV1  \\\n",
       "0          0.894448     5.488696      8.701003  ...          1.369051   \n",
       "1          5.897329     6.341014      5.153966  ...          2.197767   \n",
       "2          6.739367     9.196237      6.840647  ...          1.698011   \n",
       "3          1.404503     5.826532      4.253036  ...          3.032037   \n",
       "4          4.604493     3.127048      9.625799  ...          3.470589   \n",
       "\n",
       "   LungFunctionFVC  Wheezing  ShortnessOfBreath  ChestTightness  Coughing  \\\n",
       "0         4.941206         0                  0               1         0   \n",
       "1         1.702393         1                  0               0         1   \n",
       "2         5.022553         1                  1               1         0   \n",
       "3         2.300159         1                  0               1         1   \n",
       "4         3.067944         1                  1               1         0   \n",
       "\n",
       "   NighttimeSymptoms  ExerciseInduced  Diagnosis  DoctorInCharge  \n",
       "0                  0                1          0       Dr_Confid  \n",
       "1                  1                1          0       Dr_Confid  \n",
       "2                  1                1          0       Dr_Confid  \n",
       "3                  1                0          0       Dr_Confid  \n",
       "4                  0                1          0       Dr_Confid  \n",
       "\n",
       "[5 rows x 29 columns]"
      ]
     },
     "execution_count": 5,
     "metadata": {},
     "output_type": "execute_result"
    }
   ],
   "source": [
    "df.head()"
   ]
  },
  {
   "cell_type": "code",
   "execution_count": 6,
   "id": "8231f79d-4f95-4113-916f-385adddee867",
   "metadata": {},
   "outputs": [
    {
     "data": {
      "text/html": [
       "<div>\n",
       "<style scoped>\n",
       "    .dataframe tbody tr th:only-of-type {\n",
       "        vertical-align: middle;\n",
       "    }\n",
       "\n",
       "    .dataframe tbody tr th {\n",
       "        vertical-align: top;\n",
       "    }\n",
       "\n",
       "    .dataframe thead th {\n",
       "        text-align: right;\n",
       "    }\n",
       "</style>\n",
       "<table border=\"1\" class=\"dataframe\">\n",
       "  <thead>\n",
       "    <tr style=\"text-align: right;\">\n",
       "      <th></th>\n",
       "      <th>PatientID</th>\n",
       "      <th>Age</th>\n",
       "      <th>Gender</th>\n",
       "      <th>Ethnicity</th>\n",
       "      <th>EducationLevel</th>\n",
       "      <th>BMI</th>\n",
       "      <th>Smoking</th>\n",
       "      <th>PhysicalActivity</th>\n",
       "      <th>DietQuality</th>\n",
       "      <th>SleepQuality</th>\n",
       "      <th>...</th>\n",
       "      <th>LungFunctionFEV1</th>\n",
       "      <th>LungFunctionFVC</th>\n",
       "      <th>Wheezing</th>\n",
       "      <th>ShortnessOfBreath</th>\n",
       "      <th>ChestTightness</th>\n",
       "      <th>Coughing</th>\n",
       "      <th>NighttimeSymptoms</th>\n",
       "      <th>ExerciseInduced</th>\n",
       "      <th>Diagnosis</th>\n",
       "      <th>DoctorInCharge</th>\n",
       "    </tr>\n",
       "  </thead>\n",
       "  <tbody>\n",
       "    <tr>\n",
       "      <th>2387</th>\n",
       "      <td>7421</td>\n",
       "      <td>43</td>\n",
       "      <td>1</td>\n",
       "      <td>0</td>\n",
       "      <td>2</td>\n",
       "      <td>29.059613</td>\n",
       "      <td>0</td>\n",
       "      <td>3.019854</td>\n",
       "      <td>6.119637</td>\n",
       "      <td>8.300960</td>\n",
       "      <td>...</td>\n",
       "      <td>3.125249</td>\n",
       "      <td>5.166032</td>\n",
       "      <td>0</td>\n",
       "      <td>1</td>\n",
       "      <td>0</td>\n",
       "      <td>0</td>\n",
       "      <td>0</td>\n",
       "      <td>1</td>\n",
       "      <td>1</td>\n",
       "      <td>Dr_Confid</td>\n",
       "    </tr>\n",
       "    <tr>\n",
       "      <th>2388</th>\n",
       "      <td>7422</td>\n",
       "      <td>18</td>\n",
       "      <td>1</td>\n",
       "      <td>0</td>\n",
       "      <td>1</td>\n",
       "      <td>20.740850</td>\n",
       "      <td>0</td>\n",
       "      <td>5.805180</td>\n",
       "      <td>4.386992</td>\n",
       "      <td>7.731192</td>\n",
       "      <td>...</td>\n",
       "      <td>1.132977</td>\n",
       "      <td>5.509502</td>\n",
       "      <td>0</td>\n",
       "      <td>0</td>\n",
       "      <td>0</td>\n",
       "      <td>1</td>\n",
       "      <td>1</td>\n",
       "      <td>0</td>\n",
       "      <td>1</td>\n",
       "      <td>Dr_Confid</td>\n",
       "    </tr>\n",
       "    <tr>\n",
       "      <th>2389</th>\n",
       "      <td>7423</td>\n",
       "      <td>54</td>\n",
       "      <td>0</td>\n",
       "      <td>3</td>\n",
       "      <td>2</td>\n",
       "      <td>37.079560</td>\n",
       "      <td>0</td>\n",
       "      <td>4.735169</td>\n",
       "      <td>8.214064</td>\n",
       "      <td>7.483521</td>\n",
       "      <td>...</td>\n",
       "      <td>1.685962</td>\n",
       "      <td>3.346877</td>\n",
       "      <td>1</td>\n",
       "      <td>0</td>\n",
       "      <td>1</td>\n",
       "      <td>1</td>\n",
       "      <td>0</td>\n",
       "      <td>1</td>\n",
       "      <td>1</td>\n",
       "      <td>Dr_Confid</td>\n",
       "    </tr>\n",
       "    <tr>\n",
       "      <th>2390</th>\n",
       "      <td>7424</td>\n",
       "      <td>46</td>\n",
       "      <td>1</td>\n",
       "      <td>0</td>\n",
       "      <td>2</td>\n",
       "      <td>23.444712</td>\n",
       "      <td>0</td>\n",
       "      <td>9.672637</td>\n",
       "      <td>7.362861</td>\n",
       "      <td>6.717272</td>\n",
       "      <td>...</td>\n",
       "      <td>3.481549</td>\n",
       "      <td>1.713274</td>\n",
       "      <td>0</td>\n",
       "      <td>1</td>\n",
       "      <td>1</td>\n",
       "      <td>0</td>\n",
       "      <td>1</td>\n",
       "      <td>1</td>\n",
       "      <td>0</td>\n",
       "      <td>Dr_Confid</td>\n",
       "    </tr>\n",
       "    <tr>\n",
       "      <th>2391</th>\n",
       "      <td>7425</td>\n",
       "      <td>26</td>\n",
       "      <td>1</td>\n",
       "      <td>0</td>\n",
       "      <td>0</td>\n",
       "      <td>28.123021</td>\n",
       "      <td>1</td>\n",
       "      <td>1.613138</td>\n",
       "      <td>7.412878</td>\n",
       "      <td>8.512253</td>\n",
       "      <td>...</td>\n",
       "      <td>2.280613</td>\n",
       "      <td>2.453284</td>\n",
       "      <td>1</td>\n",
       "      <td>1</td>\n",
       "      <td>0</td>\n",
       "      <td>0</td>\n",
       "      <td>1</td>\n",
       "      <td>0</td>\n",
       "      <td>0</td>\n",
       "      <td>Dr_Confid</td>\n",
       "    </tr>\n",
       "  </tbody>\n",
       "</table>\n",
       "<p>5 rows × 29 columns</p>\n",
       "</div>"
      ],
      "text/plain": [
       "      PatientID  Age  Gender  Ethnicity  EducationLevel        BMI  Smoking  \\\n",
       "2387       7421   43       1          0               2  29.059613        0   \n",
       "2388       7422   18       1          0               1  20.740850        0   \n",
       "2389       7423   54       0          3               2  37.079560        0   \n",
       "2390       7424   46       1          0               2  23.444712        0   \n",
       "2391       7425   26       1          0               0  28.123021        1   \n",
       "\n",
       "      PhysicalActivity  DietQuality  SleepQuality  ...  LungFunctionFEV1  \\\n",
       "2387          3.019854     6.119637      8.300960  ...          3.125249   \n",
       "2388          5.805180     4.386992      7.731192  ...          1.132977   \n",
       "2389          4.735169     8.214064      7.483521  ...          1.685962   \n",
       "2390          9.672637     7.362861      6.717272  ...          3.481549   \n",
       "2391          1.613138     7.412878      8.512253  ...          2.280613   \n",
       "\n",
       "      LungFunctionFVC  Wheezing  ShortnessOfBreath  ChestTightness  Coughing  \\\n",
       "2387         5.166032         0                  1               0         0   \n",
       "2388         5.509502         0                  0               0         1   \n",
       "2389         3.346877         1                  0               1         1   \n",
       "2390         1.713274         0                  1               1         0   \n",
       "2391         2.453284         1                  1               0         0   \n",
       "\n",
       "      NighttimeSymptoms  ExerciseInduced  Diagnosis  DoctorInCharge  \n",
       "2387                  0                1          1       Dr_Confid  \n",
       "2388                  1                0          1       Dr_Confid  \n",
       "2389                  0                1          1       Dr_Confid  \n",
       "2390                  1                1          0       Dr_Confid  \n",
       "2391                  1                0          0       Dr_Confid  \n",
       "\n",
       "[5 rows x 29 columns]"
      ]
     },
     "execution_count": 6,
     "metadata": {},
     "output_type": "execute_result"
    }
   ],
   "source": [
    "df.tail()"
   ]
  },
  {
   "cell_type": "code",
   "execution_count": 7,
   "id": "4847f84b-02b3-488f-ab11-984bdb11c27e",
   "metadata": {},
   "outputs": [
    {
     "data": {
      "text/html": [
       "<div>\n",
       "<style scoped>\n",
       "    .dataframe tbody tr th:only-of-type {\n",
       "        vertical-align: middle;\n",
       "    }\n",
       "\n",
       "    .dataframe tbody tr th {\n",
       "        vertical-align: top;\n",
       "    }\n",
       "\n",
       "    .dataframe thead th {\n",
       "        text-align: right;\n",
       "    }\n",
       "</style>\n",
       "<table border=\"1\" class=\"dataframe\">\n",
       "  <thead>\n",
       "    <tr style=\"text-align: right;\">\n",
       "      <th></th>\n",
       "      <th>PatientID</th>\n",
       "      <th>Age</th>\n",
       "      <th>Gender</th>\n",
       "      <th>Ethnicity</th>\n",
       "      <th>EducationLevel</th>\n",
       "      <th>BMI</th>\n",
       "      <th>Smoking</th>\n",
       "      <th>PhysicalActivity</th>\n",
       "      <th>DietQuality</th>\n",
       "      <th>SleepQuality</th>\n",
       "      <th>...</th>\n",
       "      <th>GastroesophagealReflux</th>\n",
       "      <th>LungFunctionFEV1</th>\n",
       "      <th>LungFunctionFVC</th>\n",
       "      <th>Wheezing</th>\n",
       "      <th>ShortnessOfBreath</th>\n",
       "      <th>ChestTightness</th>\n",
       "      <th>Coughing</th>\n",
       "      <th>NighttimeSymptoms</th>\n",
       "      <th>ExerciseInduced</th>\n",
       "      <th>Diagnosis</th>\n",
       "    </tr>\n",
       "  </thead>\n",
       "  <tbody>\n",
       "    <tr>\n",
       "      <th>count</th>\n",
       "      <td>2392.000000</td>\n",
       "      <td>2392.000000</td>\n",
       "      <td>2392.000000</td>\n",
       "      <td>2392.000000</td>\n",
       "      <td>2392.000000</td>\n",
       "      <td>2392.000000</td>\n",
       "      <td>2392.000000</td>\n",
       "      <td>2392.000000</td>\n",
       "      <td>2392.000000</td>\n",
       "      <td>2392.000000</td>\n",
       "      <td>...</td>\n",
       "      <td>2392.000000</td>\n",
       "      <td>2392.000000</td>\n",
       "      <td>2392.000000</td>\n",
       "      <td>2392.000000</td>\n",
       "      <td>2392.000000</td>\n",
       "      <td>2392.000000</td>\n",
       "      <td>2392.000000</td>\n",
       "      <td>2392.000000</td>\n",
       "      <td>2392.000000</td>\n",
       "      <td>2392.000000</td>\n",
       "    </tr>\n",
       "    <tr>\n",
       "      <th>mean</th>\n",
       "      <td>6229.500000</td>\n",
       "      <td>42.137960</td>\n",
       "      <td>0.493311</td>\n",
       "      <td>0.669732</td>\n",
       "      <td>1.307274</td>\n",
       "      <td>27.244877</td>\n",
       "      <td>0.141722</td>\n",
       "      <td>5.051786</td>\n",
       "      <td>5.022867</td>\n",
       "      <td>7.019012</td>\n",
       "      <td>...</td>\n",
       "      <td>0.158027</td>\n",
       "      <td>2.548564</td>\n",
       "      <td>3.741270</td>\n",
       "      <td>0.596154</td>\n",
       "      <td>0.500418</td>\n",
       "      <td>0.503344</td>\n",
       "      <td>0.503344</td>\n",
       "      <td>0.602425</td>\n",
       "      <td>0.604933</td>\n",
       "      <td>0.051839</td>\n",
       "    </tr>\n",
       "    <tr>\n",
       "      <th>std</th>\n",
       "      <td>690.655244</td>\n",
       "      <td>21.606655</td>\n",
       "      <td>0.500060</td>\n",
       "      <td>0.986120</td>\n",
       "      <td>0.898242</td>\n",
       "      <td>7.201628</td>\n",
       "      <td>0.348838</td>\n",
       "      <td>2.903574</td>\n",
       "      <td>2.909980</td>\n",
       "      <td>1.732475</td>\n",
       "      <td>...</td>\n",
       "      <td>0.364842</td>\n",
       "      <td>0.861809</td>\n",
       "      <td>1.303689</td>\n",
       "      <td>0.490770</td>\n",
       "      <td>0.500104</td>\n",
       "      <td>0.500093</td>\n",
       "      <td>0.500093</td>\n",
       "      <td>0.489499</td>\n",
       "      <td>0.488967</td>\n",
       "      <td>0.221749</td>\n",
       "    </tr>\n",
       "    <tr>\n",
       "      <th>min</th>\n",
       "      <td>5034.000000</td>\n",
       "      <td>5.000000</td>\n",
       "      <td>0.000000</td>\n",
       "      <td>0.000000</td>\n",
       "      <td>0.000000</td>\n",
       "      <td>15.031803</td>\n",
       "      <td>0.000000</td>\n",
       "      <td>0.001740</td>\n",
       "      <td>0.003031</td>\n",
       "      <td>4.001437</td>\n",
       "      <td>...</td>\n",
       "      <td>0.000000</td>\n",
       "      <td>1.000459</td>\n",
       "      <td>1.500045</td>\n",
       "      <td>0.000000</td>\n",
       "      <td>0.000000</td>\n",
       "      <td>0.000000</td>\n",
       "      <td>0.000000</td>\n",
       "      <td>0.000000</td>\n",
       "      <td>0.000000</td>\n",
       "      <td>0.000000</td>\n",
       "    </tr>\n",
       "    <tr>\n",
       "      <th>25%</th>\n",
       "      <td>5631.750000</td>\n",
       "      <td>23.000000</td>\n",
       "      <td>0.000000</td>\n",
       "      <td>0.000000</td>\n",
       "      <td>1.000000</td>\n",
       "      <td>20.968313</td>\n",
       "      <td>0.000000</td>\n",
       "      <td>2.578333</td>\n",
       "      <td>2.432043</td>\n",
       "      <td>5.498500</td>\n",
       "      <td>...</td>\n",
       "      <td>0.000000</td>\n",
       "      <td>1.824113</td>\n",
       "      <td>2.607489</td>\n",
       "      <td>0.000000</td>\n",
       "      <td>0.000000</td>\n",
       "      <td>0.000000</td>\n",
       "      <td>0.000000</td>\n",
       "      <td>0.000000</td>\n",
       "      <td>0.000000</td>\n",
       "      <td>0.000000</td>\n",
       "    </tr>\n",
       "    <tr>\n",
       "      <th>50%</th>\n",
       "      <td>6229.500000</td>\n",
       "      <td>42.000000</td>\n",
       "      <td>0.000000</td>\n",
       "      <td>0.000000</td>\n",
       "      <td>1.000000</td>\n",
       "      <td>27.052202</td>\n",
       "      <td>0.000000</td>\n",
       "      <td>5.016881</td>\n",
       "      <td>5.115383</td>\n",
       "      <td>6.975839</td>\n",
       "      <td>...</td>\n",
       "      <td>0.000000</td>\n",
       "      <td>2.553244</td>\n",
       "      <td>3.734982</td>\n",
       "      <td>1.000000</td>\n",
       "      <td>1.000000</td>\n",
       "      <td>1.000000</td>\n",
       "      <td>1.000000</td>\n",
       "      <td>1.000000</td>\n",
       "      <td>1.000000</td>\n",
       "      <td>0.000000</td>\n",
       "    </tr>\n",
       "    <tr>\n",
       "      <th>75%</th>\n",
       "      <td>6827.250000</td>\n",
       "      <td>61.000000</td>\n",
       "      <td>1.000000</td>\n",
       "      <td>1.000000</td>\n",
       "      <td>2.000000</td>\n",
       "      <td>33.555903</td>\n",
       "      <td>0.000000</td>\n",
       "      <td>7.540234</td>\n",
       "      <td>7.544216</td>\n",
       "      <td>8.526950</td>\n",
       "      <td>...</td>\n",
       "      <td>0.000000</td>\n",
       "      <td>3.292897</td>\n",
       "      <td>4.864121</td>\n",
       "      <td>1.000000</td>\n",
       "      <td>1.000000</td>\n",
       "      <td>1.000000</td>\n",
       "      <td>1.000000</td>\n",
       "      <td>1.000000</td>\n",
       "      <td>1.000000</td>\n",
       "      <td>0.000000</td>\n",
       "    </tr>\n",
       "    <tr>\n",
       "      <th>max</th>\n",
       "      <td>7425.000000</td>\n",
       "      <td>79.000000</td>\n",
       "      <td>1.000000</td>\n",
       "      <td>3.000000</td>\n",
       "      <td>3.000000</td>\n",
       "      <td>39.985611</td>\n",
       "      <td>1.000000</td>\n",
       "      <td>9.995809</td>\n",
       "      <td>9.999904</td>\n",
       "      <td>9.996235</td>\n",
       "      <td>...</td>\n",
       "      <td>1.000000</td>\n",
       "      <td>3.999719</td>\n",
       "      <td>5.999421</td>\n",
       "      <td>1.000000</td>\n",
       "      <td>1.000000</td>\n",
       "      <td>1.000000</td>\n",
       "      <td>1.000000</td>\n",
       "      <td>1.000000</td>\n",
       "      <td>1.000000</td>\n",
       "      <td>1.000000</td>\n",
       "    </tr>\n",
       "  </tbody>\n",
       "</table>\n",
       "<p>8 rows × 28 columns</p>\n",
       "</div>"
      ],
      "text/plain": [
       "         PatientID          Age       Gender    Ethnicity  EducationLevel  \\\n",
       "count  2392.000000  2392.000000  2392.000000  2392.000000     2392.000000   \n",
       "mean   6229.500000    42.137960     0.493311     0.669732        1.307274   \n",
       "std     690.655244    21.606655     0.500060     0.986120        0.898242   \n",
       "min    5034.000000     5.000000     0.000000     0.000000        0.000000   \n",
       "25%    5631.750000    23.000000     0.000000     0.000000        1.000000   \n",
       "50%    6229.500000    42.000000     0.000000     0.000000        1.000000   \n",
       "75%    6827.250000    61.000000     1.000000     1.000000        2.000000   \n",
       "max    7425.000000    79.000000     1.000000     3.000000        3.000000   \n",
       "\n",
       "               BMI      Smoking  PhysicalActivity  DietQuality  SleepQuality  \\\n",
       "count  2392.000000  2392.000000       2392.000000  2392.000000   2392.000000   \n",
       "mean     27.244877     0.141722          5.051786     5.022867      7.019012   \n",
       "std       7.201628     0.348838          2.903574     2.909980      1.732475   \n",
       "min      15.031803     0.000000          0.001740     0.003031      4.001437   \n",
       "25%      20.968313     0.000000          2.578333     2.432043      5.498500   \n",
       "50%      27.052202     0.000000          5.016881     5.115383      6.975839   \n",
       "75%      33.555903     0.000000          7.540234     7.544216      8.526950   \n",
       "max      39.985611     1.000000          9.995809     9.999904      9.996235   \n",
       "\n",
       "       ...  GastroesophagealReflux  LungFunctionFEV1  LungFunctionFVC  \\\n",
       "count  ...             2392.000000       2392.000000      2392.000000   \n",
       "mean   ...                0.158027          2.548564         3.741270   \n",
       "std    ...                0.364842          0.861809         1.303689   \n",
       "min    ...                0.000000          1.000459         1.500045   \n",
       "25%    ...                0.000000          1.824113         2.607489   \n",
       "50%    ...                0.000000          2.553244         3.734982   \n",
       "75%    ...                0.000000          3.292897         4.864121   \n",
       "max    ...                1.000000          3.999719         5.999421   \n",
       "\n",
       "          Wheezing  ShortnessOfBreath  ChestTightness     Coughing  \\\n",
       "count  2392.000000        2392.000000     2392.000000  2392.000000   \n",
       "mean      0.596154           0.500418        0.503344     0.503344   \n",
       "std       0.490770           0.500104        0.500093     0.500093   \n",
       "min       0.000000           0.000000        0.000000     0.000000   \n",
       "25%       0.000000           0.000000        0.000000     0.000000   \n",
       "50%       1.000000           1.000000        1.000000     1.000000   \n",
       "75%       1.000000           1.000000        1.000000     1.000000   \n",
       "max       1.000000           1.000000        1.000000     1.000000   \n",
       "\n",
       "       NighttimeSymptoms  ExerciseInduced    Diagnosis  \n",
       "count        2392.000000      2392.000000  2392.000000  \n",
       "mean            0.602425         0.604933     0.051839  \n",
       "std             0.489499         0.488967     0.221749  \n",
       "min             0.000000         0.000000     0.000000  \n",
       "25%             0.000000         0.000000     0.000000  \n",
       "50%             1.000000         1.000000     0.000000  \n",
       "75%             1.000000         1.000000     0.000000  \n",
       "max             1.000000         1.000000     1.000000  \n",
       "\n",
       "[8 rows x 28 columns]"
      ]
     },
     "execution_count": 7,
     "metadata": {},
     "output_type": "execute_result"
    }
   ],
   "source": [
    "df.describe()"
   ]
  },
  {
   "cell_type": "code",
   "execution_count": 8,
   "id": "fdc521a3-0d11-4f24-be8e-f2d73dd8ada0",
   "metadata": {},
   "outputs": [
    {
     "data": {
      "text/html": [
       "<div>\n",
       "<style scoped>\n",
       "    .dataframe tbody tr th:only-of-type {\n",
       "        vertical-align: middle;\n",
       "    }\n",
       "\n",
       "    .dataframe tbody tr th {\n",
       "        vertical-align: top;\n",
       "    }\n",
       "\n",
       "    .dataframe thead th {\n",
       "        text-align: right;\n",
       "    }\n",
       "</style>\n",
       "<table border=\"1\" class=\"dataframe\">\n",
       "  <thead>\n",
       "    <tr style=\"text-align: right;\">\n",
       "      <th></th>\n",
       "      <th>PatientID</th>\n",
       "      <th>Age</th>\n",
       "      <th>Gender</th>\n",
       "      <th>Ethnicity</th>\n",
       "      <th>EducationLevel</th>\n",
       "      <th>BMI</th>\n",
       "      <th>Smoking</th>\n",
       "      <th>PhysicalActivity</th>\n",
       "      <th>DietQuality</th>\n",
       "      <th>SleepQuality</th>\n",
       "      <th>...</th>\n",
       "      <th>LungFunctionFEV1</th>\n",
       "      <th>LungFunctionFVC</th>\n",
       "      <th>Wheezing</th>\n",
       "      <th>ShortnessOfBreath</th>\n",
       "      <th>ChestTightness</th>\n",
       "      <th>Coughing</th>\n",
       "      <th>NighttimeSymptoms</th>\n",
       "      <th>ExerciseInduced</th>\n",
       "      <th>Diagnosis</th>\n",
       "      <th>DoctorInCharge</th>\n",
       "    </tr>\n",
       "  </thead>\n",
       "  <tbody>\n",
       "    <tr>\n",
       "      <th>1597</th>\n",
       "      <td>6631</td>\n",
       "      <td>26</td>\n",
       "      <td>1</td>\n",
       "      <td>0</td>\n",
       "      <td>3</td>\n",
       "      <td>19.698626</td>\n",
       "      <td>0</td>\n",
       "      <td>4.894402</td>\n",
       "      <td>1.647352</td>\n",
       "      <td>7.928477</td>\n",
       "      <td>...</td>\n",
       "      <td>3.785626</td>\n",
       "      <td>1.888894</td>\n",
       "      <td>0</td>\n",
       "      <td>0</td>\n",
       "      <td>1</td>\n",
       "      <td>1</td>\n",
       "      <td>1</td>\n",
       "      <td>0</td>\n",
       "      <td>0</td>\n",
       "      <td>Dr_Confid</td>\n",
       "    </tr>\n",
       "  </tbody>\n",
       "</table>\n",
       "<p>1 rows × 29 columns</p>\n",
       "</div>"
      ],
      "text/plain": [
       "      PatientID  Age  Gender  Ethnicity  EducationLevel        BMI  Smoking  \\\n",
       "1597       6631   26       1          0               3  19.698626        0   \n",
       "\n",
       "      PhysicalActivity  DietQuality  SleepQuality  ...  LungFunctionFEV1  \\\n",
       "1597          4.894402     1.647352      7.928477  ...          3.785626   \n",
       "\n",
       "      LungFunctionFVC  Wheezing  ShortnessOfBreath  ChestTightness  Coughing  \\\n",
       "1597         1.888894         0                  0               1         1   \n",
       "\n",
       "      NighttimeSymptoms  ExerciseInduced  Diagnosis  DoctorInCharge  \n",
       "1597                  1                0          0       Dr_Confid  \n",
       "\n",
       "[1 rows x 29 columns]"
      ]
     },
     "execution_count": 8,
     "metadata": {},
     "output_type": "execute_result"
    }
   ],
   "source": [
    "df.sample()"
   ]
  },
  {
   "cell_type": "code",
   "execution_count": 9,
   "id": "56297038-9c03-4e19-a046-361da228b2e4",
   "metadata": {},
   "outputs": [
    {
     "name": "stdout",
     "output_type": "stream",
     "text": [
      "<class 'pandas.core.frame.DataFrame'>\n",
      "RangeIndex: 2392 entries, 0 to 2391\n",
      "Data columns (total 29 columns):\n",
      " #   Column                  Non-Null Count  Dtype  \n",
      "---  ------                  --------------  -----  \n",
      " 0   PatientID               2392 non-null   int64  \n",
      " 1   Age                     2392 non-null   int64  \n",
      " 2   Gender                  2392 non-null   int64  \n",
      " 3   Ethnicity               2392 non-null   int64  \n",
      " 4   EducationLevel          2392 non-null   int64  \n",
      " 5   BMI                     2392 non-null   float64\n",
      " 6   Smoking                 2392 non-null   int64  \n",
      " 7   PhysicalActivity        2392 non-null   float64\n",
      " 8   DietQuality             2392 non-null   float64\n",
      " 9   SleepQuality            2392 non-null   float64\n",
      " 10  PollutionExposure       2392 non-null   float64\n",
      " 11  PollenExposure          2392 non-null   float64\n",
      " 12  DustExposure            2392 non-null   float64\n",
      " 13  PetAllergy              2392 non-null   int64  \n",
      " 14  FamilyHistoryAsthma     2392 non-null   int64  \n",
      " 15  HistoryOfAllergies      2392 non-null   int64  \n",
      " 16  Eczema                  2392 non-null   int64  \n",
      " 17  HayFever                2392 non-null   int64  \n",
      " 18  GastroesophagealReflux  2392 non-null   int64  \n",
      " 19  LungFunctionFEV1        2392 non-null   float64\n",
      " 20  LungFunctionFVC         2392 non-null   float64\n",
      " 21  Wheezing                2392 non-null   int64  \n",
      " 22  ShortnessOfBreath       2392 non-null   int64  \n",
      " 23  ChestTightness          2392 non-null   int64  \n",
      " 24  Coughing                2392 non-null   int64  \n",
      " 25  NighttimeSymptoms       2392 non-null   int64  \n",
      " 26  ExerciseInduced         2392 non-null   int64  \n",
      " 27  Diagnosis               2392 non-null   int64  \n",
      " 28  DoctorInCharge          2392 non-null   object \n",
      "dtypes: float64(9), int64(19), object(1)\n",
      "memory usage: 542.1+ KB\n"
     ]
    }
   ],
   "source": [
    "df.info()"
   ]
  },
  {
   "cell_type": "code",
   "execution_count": 10,
   "id": "b75f5c05-7f72-4cbc-8c1c-dd1233bea31c",
   "metadata": {},
   "outputs": [
    {
     "data": {
      "text/plain": [
       "Index(['PatientID', 'Age', 'Gender', 'Ethnicity', 'EducationLevel', 'BMI',\n",
       "       'Smoking', 'PhysicalActivity', 'DietQuality', 'SleepQuality',\n",
       "       'PollutionExposure', 'PollenExposure', 'DustExposure', 'PetAllergy',\n",
       "       'FamilyHistoryAsthma', 'HistoryOfAllergies', 'Eczema', 'HayFever',\n",
       "       'GastroesophagealReflux', 'LungFunctionFEV1', 'LungFunctionFVC',\n",
       "       'Wheezing', 'ShortnessOfBreath', 'ChestTightness', 'Coughing',\n",
       "       'NighttimeSymptoms', 'ExerciseInduced', 'Diagnosis', 'DoctorInCharge'],\n",
       "      dtype='object')"
      ]
     },
     "execution_count": 10,
     "metadata": {},
     "output_type": "execute_result"
    }
   ],
   "source": [
    "df.columns"
   ]
  },
  {
   "cell_type": "code",
   "execution_count": 11,
   "id": "daf0c920-450d-41a7-aebf-07ffb3164a96",
   "metadata": {},
   "outputs": [
    {
     "data": {
      "text/plain": [
       "PatientID                   int64\n",
       "Age                         int64\n",
       "Gender                      int64\n",
       "Ethnicity                   int64\n",
       "EducationLevel              int64\n",
       "BMI                       float64\n",
       "Smoking                     int64\n",
       "PhysicalActivity          float64\n",
       "DietQuality               float64\n",
       "SleepQuality              float64\n",
       "PollutionExposure         float64\n",
       "PollenExposure            float64\n",
       "DustExposure              float64\n",
       "PetAllergy                  int64\n",
       "FamilyHistoryAsthma         int64\n",
       "HistoryOfAllergies          int64\n",
       "Eczema                      int64\n",
       "HayFever                    int64\n",
       "GastroesophagealReflux      int64\n",
       "LungFunctionFEV1          float64\n",
       "LungFunctionFVC           float64\n",
       "Wheezing                    int64\n",
       "ShortnessOfBreath           int64\n",
       "ChestTightness              int64\n",
       "Coughing                    int64\n",
       "NighttimeSymptoms           int64\n",
       "ExerciseInduced             int64\n",
       "Diagnosis                   int64\n",
       "DoctorInCharge             object\n",
       "dtype: object"
      ]
     },
     "execution_count": 11,
     "metadata": {},
     "output_type": "execute_result"
    }
   ],
   "source": [
    "df.dtypes"
   ]
  },
  {
   "cell_type": "code",
   "execution_count": 12,
   "id": "1093c016-7107-4937-9cc3-930521f84499",
   "metadata": {},
   "outputs": [
    {
     "data": {
      "text/plain": [
       "(2392, 29)"
      ]
     },
     "execution_count": 12,
     "metadata": {},
     "output_type": "execute_result"
    }
   ],
   "source": [
    "df.shape"
   ]
  },
  {
   "cell_type": "markdown",
   "id": "919d6c27-f7e9-47bd-a009-72e392cdde71",
   "metadata": {},
   "source": [
    "### df.isna().sum()"
   ]
  },
  {
   "cell_type": "markdown",
   "id": "b48c70bf-d7f9-48c3-96cd-2992db2190b8",
   "metadata": {},
   "source": [
    "# Visualization"
   ]
  },
  {
   "cell_type": "code",
   "execution_count": 14,
   "id": "3bc25f34-a9a6-4180-b4f8-a2e2dadf62c7",
   "metadata": {},
   "outputs": [
    {
     "data": {
      "text/plain": [
       "array([0, 1], dtype=int64)"
      ]
     },
     "execution_count": 14,
     "metadata": {},
     "output_type": "execute_result"
    }
   ],
   "source": [
    "df['Gender'].unique()"
   ]
  },
  {
   "cell_type": "code",
   "execution_count": 15,
   "id": "a003bb3d-8e40-48e0-89f4-5cf475017176",
   "metadata": {},
   "outputs": [],
   "source": [
    "gen=df['Gender'].value_counts()"
   ]
  },
  {
   "cell_type": "code",
   "execution_count": 16,
   "id": "29381e7c-2817-4395-9e43-b38cced26a0c",
   "metadata": {},
   "outputs": [],
   "source": [
    "x=gen.index2\n"
   ]
  },
  {
   "cell_type": "code",
   "execution_count": 17,
   "id": "a5f1da16-a735-4ae5-a34e-9da96c4420e7",
   "metadata": {},
   "outputs": [],
   "source": [
    "y=gen.values"
   ]
  },
  {
   "cell_type": "code",
   "execution_count": 18,
   "id": "a4b7764e-fdde-4c1b-925d-fbb3c5e3ba58",
   "metadata": {},
   "outputs": [
    {
     "data": {
      "image/png": "[encoded data removed]",
      "text/plain": [
       "<Figure size 600x400 with 1 Axes>"
      ]
     },
     "metadata": {},
     "output_type": "display_data"
    }
   ],
   "source": [
    "plt.figure(figsize=(6,4))\n",
    "plt.title('Gender Distribution')\n",
    "plt.bar(x,y,color=['black','pink','red'])\n",
    "plt.xlabel('Gender')\n",
    "plt.ylabel('Counts')\n",
    "plt.show()"
   ]
  },
  {
   "cell_type": "code",
   "execution_count": 19,
   "id": "3a378cdb-3106-435b-af44-f505a1d38450",
   "metadata": {},
   "outputs": [
    {
     "data": {
      "text/plain": [
       "array([0, 2, 1, 3], dtype=int64)"
      ]
     },
     "execution_count": 19,
     "metadata": {},
     "output_type": "execute_result"
    }
   ],
   "source": [
    "df['EducationLevel'].unique()"
   ]
  },
  {
   "cell_type": "code",
   "execution_count": 20,
   "id": "c67257ba-cccf-466e-971a-2b7f896d5d1d",
   "metadata": {},
   "outputs": [],
   "source": [
    "edu=df['EducationLevel'].value_counts()"
   ]
  },
  {
   "cell_type": "code",
   "execution_count": 21,
   "id": "7a3deeed-ac50-4db3-b179-ab8e30edcd78",
   "metadata": {},
   "outputs": [],
   "source": [
    "x=edu.index"
   ]
  },
  {
   "cell_type": "code",
   "execution_count": 22,
   "id": "512586b4-ab46-4836-a386-389db49fa06b",
   "metadata": {},
   "outputs": [],
   "source": [
    "y=edu.values"
   ]
  },
  {
   "cell_type": "code",
   "execution_count": 23,
   "id": "cafb1b21-89d2-4245-8d8d-13df7ad33364",
   "metadata": {},
   "outputs": [
    {
     "data": {
      "image/png": "[encoded data removed]",
      "text/plain": [
       "<Figure size 600x400 with 1 Axes>"
      ]
     },
     "metadata": {},
     "output_type": "display_data"
    }
   ],
   "source": [
    "plt.figure(figsize=(6,4))\n",
    "plt.title('Education Level Distribution')\n",
    "plt.pie(y,labels=x)\n",
    "plt.legend(x,loc=\"upper right\")\n",
    "plt.show()"
   ]
  },
  {
   "cell_type": "code",
   "execution_count": 24,
   "id": "e8ae9c46-d2e4-4d61-8284-ca74362e0fb5",
   "metadata": {},
   "outputs": [
    {
     "data": {
      "text/plain": [
       "5"
      ]
     },
     "execution_count": 24,
     "metadata": {},
     "output_type": "execute_result"
    }
   ],
   "source": [
    "df['Age'].min()"
   ]
  },
  {
   "cell_type": "code",
   "execution_count": 25,
   "id": "6d8f7a81-25b8-48b5-8385-6adbde5257eb",
   "metadata": {},
   "outputs": [
    {
     "data": {
      "text/plain": [
       "79"
      ]
     },
     "execution_count": 25,
     "metadata": {},
     "output_type": "execute_result"
    }
   ],
   "source": [
    "df['Age'].max()"
   ]
  },
  {
   "cell_type": "code",
   "execution_count": 26,
   "id": "ea62b01d-b8bd-4fee-8eea-a7e7be55ec23",
   "metadata": {},
   "outputs": [],
   "source": [
    "x=df['Age']"
   ]
  },
  {
   "cell_type": "code",
   "execution_count": 27,
   "id": "be9a4f95-d9a2-4d2f-a6db-ce0b19c7e564",
   "metadata": {},
   "outputs": [
    {
     "data": {
      "image/png": "[encoded data removed]",
      "text/plain": [
       "<Figure size 800x600 with 1 Axes>"
      ]
     },
     "metadata": {},
     "output_type": "display_data"
    }
   ],
   "source": [
    "plt.figure(figsize=(8,6))\n",
    "plt.title('Age Distribution')\n",
    "plt.hist(x,bins=[10,20,30,40,50,60,70,80],color='yellow')\n",
    "plt.xlabel('Age')\n",
    "plt.ylabel('Counts')\n",
    "plt.show()"
   ]
  },
  {
   "cell_type": "markdown",
   "id": "100e3747-2bf7-4470-ae23-e32bb76e289b",
   "metadata": {},
   "source": [
    "## Encoding"
   ]
  },
  {
   "cell_type": "code",
   "execution_count": 28,
   "id": "6ff03e5e-d903-4eaf-8999-6c6fc78bc3b0",
   "metadata": {},
   "outputs": [
    {
     "data": {
      "text/plain": [
       "PatientID                   int64\n",
       "Age                         int64\n",
       "Gender                      int64\n",
       "Ethnicity                   int64\n",
       "EducationLevel              int64\n",
       "BMI                       float64\n",
       "Smoking                     int64\n",
       "PhysicalActivity          float64\n",
       "DietQuality               float64\n",
       "SleepQuality              float64\n",
       "PollutionExposure         float64\n",
       "PollenExposure            float64\n",
       "DustExposure              float64\n",
       "PetAllergy                  int64\n",
       "FamilyHistoryAsthma         int64\n",
       "HistoryOfAllergies          int64\n",
       "Eczema                      int64\n",
       "HayFever                    int64\n",
       "GastroesophagealReflux      int64\n",
       "LungFunctionFEV1          float64\n",
       "LungFunctionFVC           float64\n",
       "Wheezing                    int64\n",
       "ShortnessOfBreath           int64\n",
       "ChestTightness              int64\n",
       "Coughing                    int64\n",
       "NighttimeSymptoms           int64\n",
       "ExerciseInduced             int64\n",
       "Diagnosis                   int64\n",
       "DoctorInCharge             object\n",
       "dtype: object"
      ]
     },
     "execution_count": 28,
     "metadata": {},
     "output_type": "execute_result"
    }
   ],
   "source": [
    "df.dtypes"
   ]
  },
  {
   "cell_type": "code",
   "execution_count": 29,
   "id": "f362460a-6d81-4e5f-9433-af67cce9b74b",
   "metadata": {},
   "outputs": [
    {
     "data": {
      "text/plain": [
       "array(['Dr_Confid'], dtype=object)"
      ]
     },
     "execution_count": 29,
     "metadata": {},
     "output_type": "execute_result"
    }
   ],
   "source": [
    "df['DoctorInCharge'].unique()"
   ]
  },
  {
   "cell_type": "code",
   "execution_count": 30,
   "id": "1a5077dd-4b6e-4898-a34c-015b9af4d9f0",
   "metadata": {},
   "outputs": [],
   "source": [
    "from sklearn.preprocessing import LabelEncoder\n",
    "\n",
    "le = LabelEncoder()\n",
    "df['DoctorInCharge'] = le.fit_transform(df['DoctorInCharge'])\n"
   ]
  },
  {
   "cell_type": "code",
   "execution_count": 31,
   "id": "cde785b7-4c4a-4814-918f-a263705dceee",
   "metadata": {},
   "outputs": [
    {
     "data": {
      "text/plain": [
       "array([0])"
      ]
     },
     "execution_count": 31,
     "metadata": {},
     "output_type": "execute_result"
    }
   ],
   "source": [
    "df['DoctorInCharge'].unique()"
   ]
  },
  {
   "cell_type": "code",
   "execution_count": 32,
   "id": "c1915b00-4f87-4429-898c-a757a79e3beb",
   "metadata": {},
   "outputs": [],
   "source": [
    "df.drop(columns=['DoctorInCharge'], inplace=True)"
   ]
  },
  {
   "cell_type": "code",
   "execution_count": 33,
   "id": "88c7ef73-a1ef-4595-a45c-758a5e33aa62",
   "metadata": {},
   "outputs": [
    {
     "data": {
      "text/html": [
       "<div>\n",
       "<style scoped>\n",
       "    .dataframe tbody tr th:only-of-type {\n",
       "        vertical-align: middle;\n",
       "    }\n",
       "\n",
       "    .dataframe tbody tr th {\n",
       "        vertical-align: top;\n",
       "    }\n",
       "\n",
       "    .dataframe thead th {\n",
       "        text-align: right;\n",
       "    }\n",
       "</style>\n",
       "<table border=\"1\" class=\"dataframe\">\n",
       "  <thead>\n",
       "    <tr style=\"text-align: right;\">\n",
       "      <th></th>\n",
       "      <th>PatientID</th>\n",
       "      <th>Age</th>\n",
       "      <th>Gender</th>\n",
       "      <th>Ethnicity</th>\n",
       "      <th>EducationLevel</th>\n",
       "      <th>BMI</th>\n",
       "      <th>Smoking</th>\n",
       "      <th>PhysicalActivity</th>\n",
       "      <th>DietQuality</th>\n",
       "      <th>SleepQuality</th>\n",
       "      <th>...</th>\n",
       "      <th>GastroesophagealReflux</th>\n",
       "      <th>LungFunctionFEV1</th>\n",
       "      <th>LungFunctionFVC</th>\n",
       "      <th>Wheezing</th>\n",
       "      <th>ShortnessOfBreath</th>\n",
       "      <th>ChestTightness</th>\n",
       "      <th>Coughing</th>\n",
       "      <th>NighttimeSymptoms</th>\n",
       "      <th>ExerciseInduced</th>\n",
       "      <th>Diagnosis</th>\n",
       "    </tr>\n",
       "  </thead>\n",
       "  <tbody>\n",
       "    <tr>\n",
       "      <th>0</th>\n",
       "      <td>5034</td>\n",
       "      <td>63</td>\n",
       "      <td>0</td>\n",
       "      <td>1</td>\n",
       "      <td>0</td>\n",
       "      <td>15.848744</td>\n",
       "      <td>0</td>\n",
       "      <td>0.894448</td>\n",
       "      <td>5.488696</td>\n",
       "      <td>8.701003</td>\n",
       "      <td>...</td>\n",
       "      <td>0</td>\n",
       "      <td>1.369051</td>\n",
       "      <td>4.941206</td>\n",
       "      <td>0</td>\n",
       "      <td>0</td>\n",
       "      <td>1</td>\n",
       "      <td>0</td>\n",
       "      <td>0</td>\n",
       "      <td>1</td>\n",
       "      <td>0</td>\n",
       "    </tr>\n",
       "    <tr>\n",
       "      <th>1</th>\n",
       "      <td>5035</td>\n",
       "      <td>26</td>\n",
       "      <td>1</td>\n",
       "      <td>2</td>\n",
       "      <td>2</td>\n",
       "      <td>22.757042</td>\n",
       "      <td>0</td>\n",
       "      <td>5.897329</td>\n",
       "      <td>6.341014</td>\n",
       "      <td>5.153966</td>\n",
       "      <td>...</td>\n",
       "      <td>0</td>\n",
       "      <td>2.197767</td>\n",
       "      <td>1.702393</td>\n",
       "      <td>1</td>\n",
       "      <td>0</td>\n",
       "      <td>0</td>\n",
       "      <td>1</td>\n",
       "      <td>1</td>\n",
       "      <td>1</td>\n",
       "      <td>0</td>\n",
       "    </tr>\n",
       "    <tr>\n",
       "      <th>2</th>\n",
       "      <td>5036</td>\n",
       "      <td>57</td>\n",
       "      <td>0</td>\n",
       "      <td>2</td>\n",
       "      <td>1</td>\n",
       "      <td>18.395396</td>\n",
       "      <td>0</td>\n",
       "      <td>6.739367</td>\n",
       "      <td>9.196237</td>\n",
       "      <td>6.840647</td>\n",
       "      <td>...</td>\n",
       "      <td>0</td>\n",
       "      <td>1.698011</td>\n",
       "      <td>5.022553</td>\n",
       "      <td>1</td>\n",
       "      <td>1</td>\n",
       "      <td>1</td>\n",
       "      <td>0</td>\n",
       "      <td>1</td>\n",
       "      <td>1</td>\n",
       "      <td>0</td>\n",
       "    </tr>\n",
       "    <tr>\n",
       "      <th>3</th>\n",
       "      <td>5037</td>\n",
       "      <td>40</td>\n",
       "      <td>1</td>\n",
       "      <td>2</td>\n",
       "      <td>1</td>\n",
       "      <td>38.515278</td>\n",
       "      <td>0</td>\n",
       "      <td>1.404503</td>\n",
       "      <td>5.826532</td>\n",
       "      <td>4.253036</td>\n",
       "      <td>...</td>\n",
       "      <td>0</td>\n",
       "      <td>3.032037</td>\n",
       "      <td>2.300159</td>\n",
       "      <td>1</td>\n",
       "      <td>0</td>\n",
       "      <td>1</td>\n",
       "      <td>1</td>\n",
       "      <td>1</td>\n",
       "      <td>0</td>\n",
       "      <td>0</td>\n",
       "    </tr>\n",
       "    <tr>\n",
       "      <th>4</th>\n",
       "      <td>5038</td>\n",
       "      <td>61</td>\n",
       "      <td>0</td>\n",
       "      <td>0</td>\n",
       "      <td>3</td>\n",
       "      <td>19.283802</td>\n",
       "      <td>0</td>\n",
       "      <td>4.604493</td>\n",
       "      <td>3.127048</td>\n",
       "      <td>9.625799</td>\n",
       "      <td>...</td>\n",
       "      <td>0</td>\n",
       "      <td>3.470589</td>\n",
       "      <td>3.067944</td>\n",
       "      <td>1</td>\n",
       "      <td>1</td>\n",
       "      <td>1</td>\n",
       "      <td>0</td>\n",
       "      <td>0</td>\n",
       "      <td>1</td>\n",
       "      <td>0</td>\n",
       "    </tr>\n",
       "    <tr>\n",
       "      <th>...</th>\n",
       "      <td>...</td>\n",
       "      <td>...</td>\n",
       "      <td>...</td>\n",
       "      <td>...</td>\n",
       "      <td>...</td>\n",
       "      <td>...</td>\n",
       "      <td>...</td>\n",
       "      <td>...</td>\n",
       "      <td>...</td>\n",
       "      <td>...</td>\n",
       "      <td>...</td>\n",
       "      <td>...</td>\n",
       "      <td>...</td>\n",
       "      <td>...</td>\n",
       "      <td>...</td>\n",
       "      <td>...</td>\n",
       "      <td>...</td>\n",
       "      <td>...</td>\n",
       "      <td>...</td>\n",
       "      <td>...</td>\n",
       "      <td>...</td>\n",
       "    </tr>\n",
       "    <tr>\n",
       "      <th>2387</th>\n",
       "      <td>7421</td>\n",
       "      <td>43</td>\n",
       "      <td>1</td>\n",
       "      <td>0</td>\n",
       "      <td>2</td>\n",
       "      <td>29.059613</td>\n",
       "      <td>0</td>\n",
       "      <td>3.019854</td>\n",
       "      <td>6.119637</td>\n",
       "      <td>8.300960</td>\n",
       "      <td>...</td>\n",
       "      <td>0</td>\n",
       "      <td>3.125249</td>\n",
       "      <td>5.166032</td>\n",
       "      <td>0</td>\n",
       "      <td>1</td>\n",
       "      <td>0</td>\n",
       "      <td>0</td>\n",
       "      <td>0</td>\n",
       "      <td>1</td>\n",
       "      <td>1</td>\n",
       "    </tr>\n",
       "    <tr>\n",
       "      <th>2388</th>\n",
       "      <td>7422</td>\n",
       "      <td>18</td>\n",
       "      <td>1</td>\n",
       "      <td>0</td>\n",
       "      <td>1</td>\n",
       "      <td>20.740850</td>\n",
       "      <td>0</td>\n",
       "      <td>5.805180</td>\n",
       "      <td>4.386992</td>\n",
       "      <td>7.731192</td>\n",
       "      <td>...</td>\n",
       "      <td>0</td>\n",
       "      <td>1.132977</td>\n",
       "      <td>5.509502</td>\n",
       "      <td>0</td>\n",
       "      <td>0</td>\n",
       "      <td>0</td>\n",
       "      <td>1</td>\n",
       "      <td>1</td>\n",
       "      <td>0</td>\n",
       "      <td>1</td>\n",
       "    </tr>\n",
       "    <tr>\n",
       "      <th>2389</th>\n",
       "      <td>7423</td>\n",
       "      <td>54</td>\n",
       "      <td>0</td>\n",
       "      <td>3</td>\n",
       "      <td>2</td>\n",
       "      <td>37.079560</td>\n",
       "      <td>0</td>\n",
       "      <td>4.735169</td>\n",
       "      <td>8.214064</td>\n",
       "      <td>7.483521</td>\n",
       "      <td>...</td>\n",
       "      <td>0</td>\n",
       "      <td>1.685962</td>\n",
       "      <td>3.346877</td>\n",
       "      <td>1</td>\n",
       "      <td>0</td>\n",
       "      <td>1</td>\n",
       "      <td>1</td>\n",
       "      <td>0</td>\n",
       "      <td>1</td>\n",
       "      <td>1</td>\n",
       "    </tr>\n",
       "    <tr>\n",
       "      <th>2390</th>\n",
       "      <td>7424</td>\n",
       "      <td>46</td>\n",
       "      <td>1</td>\n",
       "      <td>0</td>\n",
       "      <td>2</td>\n",
       "      <td>23.444712</td>\n",
       "      <td>0</td>\n",
       "      <td>9.672637</td>\n",
       "      <td>7.362861</td>\n",
       "      <td>6.717272</td>\n",
       "      <td>...</td>\n",
       "      <td>1</td>\n",
       "      <td>3.481549</td>\n",
       "      <td>1.713274</td>\n",
       "      <td>0</td>\n",
       "      <td>1</td>\n",
       "      <td>1</td>\n",
       "      <td>0</td>\n",
       "      <td>1</td>\n",
       "      <td>1</td>\n",
       "      <td>0</td>\n",
       "    </tr>\n",
       "    <tr>\n",
       "      <th>2391</th>\n",
       "      <td>7425</td>\n",
       "      <td>26</td>\n",
       "      <td>1</td>\n",
       "      <td>0</td>\n",
       "      <td>0</td>\n",
       "      <td>28.123021</td>\n",
       "      <td>1</td>\n",
       "      <td>1.613138</td>\n",
       "      <td>7.412878</td>\n",
       "      <td>8.512253</td>\n",
       "      <td>...</td>\n",
       "      <td>0</td>\n",
       "      <td>2.280613</td>\n",
       "      <td>2.453284</td>\n",
       "      <td>1</td>\n",
       "      <td>1</td>\n",
       "      <td>0</td>\n",
       "      <td>0</td>\n",
       "      <td>1</td>\n",
       "      <td>0</td>\n",
       "      <td>0</td>\n",
       "    </tr>\n",
       "  </tbody>\n",
       "</table>\n",
       "<p>2392 rows × 28 columns</p>\n",
       "</div>"
      ],
      "text/plain": [
       "      PatientID  Age  Gender  Ethnicity  EducationLevel        BMI  Smoking  \\\n",
       "0          5034   63       0          1               0  15.848744        0   \n",
       "1          5035   26       1          2               2  22.757042        0   \n",
       "2          5036   57       0          2               1  18.395396        0   \n",
       "3          5037   40       1          2               1  38.515278        0   \n",
       "4          5038   61       0          0               3  19.283802        0   \n",
       "...         ...  ...     ...        ...             ...        ...      ...   \n",
       "2387       7421   43       1          0               2  29.059613        0   \n",
       "2388       7422   18       1          0               1  20.740850        0   \n",
       "2389       7423   54       0          3               2  37.079560        0   \n",
       "2390       7424   46       1          0               2  23.444712        0   \n",
       "2391       7425   26       1          0               0  28.123021        1   \n",
       "\n",
       "      PhysicalActivity  DietQuality  SleepQuality  ...  \\\n",
       "0             0.894448     5.488696      8.701003  ...   \n",
       "1             5.897329     6.341014      5.153966  ...   \n",
       "2             6.739367     9.196237      6.840647  ...   \n",
       "3             1.404503     5.826532      4.253036  ...   \n",
       "4             4.604493     3.127048      9.625799  ...   \n",
       "...                ...          ...           ...  ...   \n",
       "2387          3.019854     6.119637      8.300960  ...   \n",
       "2388          5.805180     4.386992      7.731192  ...   \n",
       "2389          4.735169     8.214064      7.483521  ...   \n",
       "2390          9.672637     7.362861      6.717272  ...   \n",
       "2391          1.613138     7.412878      8.512253  ...   \n",
       "\n",
       "      GastroesophagealReflux  LungFunctionFEV1  LungFunctionFVC  Wheezing  \\\n",
       "0                          0          1.369051         4.941206         0   \n",
       "1                          0          2.197767         1.702393         1   \n",
       "2                          0          1.698011         5.022553         1   \n",
       "3                          0          3.032037         2.300159         1   \n",
       "4                          0          3.470589         3.067944         1   \n",
       "...                      ...               ...              ...       ...   \n",
       "2387                       0          3.125249         5.166032         0   \n",
       "2388                       0          1.132977         5.509502         0   \n",
       "2389                       0          1.685962         3.346877         1   \n",
       "2390                       1          3.481549         1.713274         0   \n",
       "2391                       0          2.280613         2.453284         1   \n",
       "\n",
       "      ShortnessOfBreath  ChestTightness  Coughing  NighttimeSymptoms  \\\n",
       "0                     0               1         0                  0   \n",
       "1                     0               0         1                  1   \n",
       "2                     1               1         0                  1   \n",
       "3                     0               1         1                  1   \n",
       "4                     1               1         0                  0   \n",
       "...                 ...             ...       ...                ...   \n",
       "2387                  1               0         0                  0   \n",
       "2388                  0               0         1                  1   \n",
       "2389                  0               1         1                  0   \n",
       "2390                  1               1         0                  1   \n",
       "2391                  1               0         0                  1   \n",
       "\n",
       "      ExerciseInduced  Diagnosis  \n",
       "0                   1          0  \n",
       "1                   1          0  \n",
       "2                   1          0  \n",
       "3                   0          0  \n",
       "4                   1          0  \n",
       "...               ...        ...  \n",
       "2387                1          1  \n",
       "2388                0          1  \n",
       "2389                1          1  \n",
       "2390                1          0  \n",
       "2391                0          0  \n",
       "\n",
       "[2392 rows x 28 columns]"
      ]
     },
     "execution_count": 33,
     "metadata": {},
     "output_type": "execute_result"
    }
   ],
   "source": [
    "df"
   ]
  },
  {
   "cell_type": "code",
   "execution_count": null,
   "id": "1f6e365c-912e-49d7-bdae-32c978da2703",
   "metadata": {},
   "outputs": [],
   "source": []
  },
  {
   "cell_type": "code",
   "execution_count": null,
   "id": "8d59a6bc-474f-42e4-b3ef-dcb4460c2092",
   "metadata": {},
   "outputs": [],
   "source": []
  },
  {
   "cell_type": "code",
   "execution_count": 34,
   "id": "d3994dfa-f2a7-4417-b563-e3c72bf79592",
   "metadata": {},
   "outputs": [
    {
     "data": {
      "text/html": [
       "<div>\n",
       "<style scoped>\n",
       "    .dataframe tbody tr th:only-of-type {\n",
       "        vertical-align: middle;\n",
       "    }\n",
       "\n",
       "    .dataframe tbody tr th {\n",
       "        vertical-align: top;\n",
       "    }\n",
       "\n",
       "    .dataframe thead th {\n",
       "        text-align: right;\n",
       "    }\n",
       "</style>\n",
       "<table border=\"1\" class=\"dataframe\">\n",
       "  <thead>\n",
       "    <tr style=\"text-align: right;\">\n",
       "      <th></th>\n",
       "      <th>PatientID</th>\n",
       "      <th>Age</th>\n",
       "      <th>Gender</th>\n",
       "      <th>Ethnicity</th>\n",
       "      <th>EducationLevel</th>\n",
       "      <th>BMI</th>\n",
       "      <th>Smoking</th>\n",
       "      <th>PhysicalActivity</th>\n",
       "      <th>DietQuality</th>\n",
       "      <th>SleepQuality</th>\n",
       "      <th>...</th>\n",
       "      <th>GastroesophagealReflux</th>\n",
       "      <th>LungFunctionFEV1</th>\n",
       "      <th>LungFunctionFVC</th>\n",
       "      <th>Wheezing</th>\n",
       "      <th>ShortnessOfBreath</th>\n",
       "      <th>ChestTightness</th>\n",
       "      <th>Coughing</th>\n",
       "      <th>NighttimeSymptoms</th>\n",
       "      <th>ExerciseInduced</th>\n",
       "      <th>Diagnosis</th>\n",
       "    </tr>\n",
       "  </thead>\n",
       "  <tbody>\n",
       "    <tr>\n",
       "      <th>0</th>\n",
       "      <td>5034</td>\n",
       "      <td>63</td>\n",
       "      <td>0</td>\n",
       "      <td>1</td>\n",
       "      <td>0</td>\n",
       "      <td>15.848744</td>\n",
       "      <td>0</td>\n",
       "      <td>0.894448</td>\n",
       "      <td>5.488696</td>\n",
       "      <td>8.701003</td>\n",
       "      <td>...</td>\n",
       "      <td>0</td>\n",
       "      <td>1.369051</td>\n",
       "      <td>4.941206</td>\n",
       "      <td>0</td>\n",
       "      <td>0</td>\n",
       "      <td>1</td>\n",
       "      <td>0</td>\n",
       "      <td>0</td>\n",
       "      <td>1</td>\n",
       "      <td>0</td>\n",
       "    </tr>\n",
       "    <tr>\n",
       "      <th>1</th>\n",
       "      <td>5035</td>\n",
       "      <td>26</td>\n",
       "      <td>1</td>\n",
       "      <td>2</td>\n",
       "      <td>2</td>\n",
       "      <td>22.757042</td>\n",
       "      <td>0</td>\n",
       "      <td>5.897329</td>\n",
       "      <td>6.341014</td>\n",
       "      <td>5.153966</td>\n",
       "      <td>...</td>\n",
       "      <td>0</td>\n",
       "      <td>2.197767</td>\n",
       "      <td>1.702393</td>\n",
       "      <td>1</td>\n",
       "      <td>0</td>\n",
       "      <td>0</td>\n",
       "      <td>1</td>\n",
       "      <td>1</td>\n",
       "      <td>1</td>\n",
       "      <td>0</td>\n",
       "    </tr>\n",
       "    <tr>\n",
       "      <th>2</th>\n",
       "      <td>5036</td>\n",
       "      <td>57</td>\n",
       "      <td>0</td>\n",
       "      <td>2</td>\n",
       "      <td>1</td>\n",
       "      <td>18.395396</td>\n",
       "      <td>0</td>\n",
       "      <td>6.739367</td>\n",
       "      <td>9.196237</td>\n",
       "      <td>6.840647</td>\n",
       "      <td>...</td>\n",
       "      <td>0</td>\n",
       "      <td>1.698011</td>\n",
       "      <td>5.022553</td>\n",
       "      <td>1</td>\n",
       "      <td>1</td>\n",
       "      <td>1</td>\n",
       "      <td>0</td>\n",
       "      <td>1</td>\n",
       "      <td>1</td>\n",
       "      <td>0</td>\n",
       "    </tr>\n",
       "    <tr>\n",
       "      <th>3</th>\n",
       "      <td>5037</td>\n",
       "      <td>40</td>\n",
       "      <td>1</td>\n",
       "      <td>2</td>\n",
       "      <td>1</td>\n",
       "      <td>38.515278</td>\n",
       "      <td>0</td>\n",
       "      <td>1.404503</td>\n",
       "      <td>5.826532</td>\n",
       "      <td>4.253036</td>\n",
       "      <td>...</td>\n",
       "      <td>0</td>\n",
       "      <td>3.032037</td>\n",
       "      <td>2.300159</td>\n",
       "      <td>1</td>\n",
       "      <td>0</td>\n",
       "      <td>1</td>\n",
       "      <td>1</td>\n",
       "      <td>1</td>\n",
       "      <td>0</td>\n",
       "      <td>0</td>\n",
       "    </tr>\n",
       "    <tr>\n",
       "      <th>4</th>\n",
       "      <td>5038</td>\n",
       "      <td>61</td>\n",
       "      <td>0</td>\n",
       "      <td>0</td>\n",
       "      <td>3</td>\n",
       "      <td>19.283802</td>\n",
       "      <td>0</td>\n",
       "      <td>4.604493</td>\n",
       "      <td>3.127048</td>\n",
       "      <td>9.625799</td>\n",
       "      <td>...</td>\n",
       "      <td>0</td>\n",
       "      <td>3.470589</td>\n",
       "      <td>3.067944</td>\n",
       "      <td>1</td>\n",
       "      <td>1</td>\n",
       "      <td>1</td>\n",
       "      <td>0</td>\n",
       "      <td>0</td>\n",
       "      <td>1</td>\n",
       "      <td>0</td>\n",
       "    </tr>\n",
       "    <tr>\n",
       "      <th>...</th>\n",
       "      <td>...</td>\n",
       "      <td>...</td>\n",
       "      <td>...</td>\n",
       "      <td>...</td>\n",
       "      <td>...</td>\n",
       "      <td>...</td>\n",
       "      <td>...</td>\n",
       "      <td>...</td>\n",
       "      <td>...</td>\n",
       "      <td>...</td>\n",
       "      <td>...</td>\n",
       "      <td>...</td>\n",
       "      <td>...</td>\n",
       "      <td>...</td>\n",
       "      <td>...</td>\n",
       "      <td>...</td>\n",
       "      <td>...</td>\n",
       "      <td>...</td>\n",
       "      <td>...</td>\n",
       "      <td>...</td>\n",
       "      <td>...</td>\n",
       "    </tr>\n",
       "    <tr>\n",
       "      <th>2387</th>\n",
       "      <td>7421</td>\n",
       "      <td>43</td>\n",
       "      <td>1</td>\n",
       "      <td>0</td>\n",
       "      <td>2</td>\n",
       "      <td>29.059613</td>\n",
       "      <td>0</td>\n",
       "      <td>3.019854</td>\n",
       "      <td>6.119637</td>\n",
       "      <td>8.300960</td>\n",
       "      <td>...</td>\n",
       "      <td>0</td>\n",
       "      <td>3.125249</td>\n",
       "      <td>5.166032</td>\n",
       "      <td>0</td>\n",
       "      <td>1</td>\n",
       "      <td>0</td>\n",
       "      <td>0</td>\n",
       "      <td>0</td>\n",
       "      <td>1</td>\n",
       "      <td>1</td>\n",
       "    </tr>\n",
       "    <tr>\n",
       "      <th>2388</th>\n",
       "      <td>7422</td>\n",
       "      <td>18</td>\n",
       "      <td>1</td>\n",
       "      <td>0</td>\n",
       "      <td>1</td>\n",
       "      <td>20.740850</td>\n",
       "      <td>0</td>\n",
       "      <td>5.805180</td>\n",
       "      <td>4.386992</td>\n",
       "      <td>7.731192</td>\n",
       "      <td>...</td>\n",
       "      <td>0</td>\n",
       "      <td>1.132977</td>\n",
       "      <td>5.509502</td>\n",
       "      <td>0</td>\n",
       "      <td>0</td>\n",
       "      <td>0</td>\n",
       "      <td>1</td>\n",
       "      <td>1</td>\n",
       "      <td>0</td>\n",
       "      <td>1</td>\n",
       "    </tr>\n",
       "    <tr>\n",
       "      <th>2389</th>\n",
       "      <td>7423</td>\n",
       "      <td>54</td>\n",
       "      <td>0</td>\n",
       "      <td>3</td>\n",
       "      <td>2</td>\n",
       "      <td>37.079560</td>\n",
       "      <td>0</td>\n",
       "      <td>4.735169</td>\n",
       "      <td>8.214064</td>\n",
       "      <td>7.483521</td>\n",
       "      <td>...</td>\n",
       "      <td>0</td>\n",
       "      <td>1.685962</td>\n",
       "      <td>3.346877</td>\n",
       "      <td>1</td>\n",
       "      <td>0</td>\n",
       "      <td>1</td>\n",
       "      <td>1</td>\n",
       "      <td>0</td>\n",
       "      <td>1</td>\n",
       "      <td>1</td>\n",
       "    </tr>\n",
       "    <tr>\n",
       "      <th>2390</th>\n",
       "      <td>7424</td>\n",
       "      <td>46</td>\n",
       "      <td>1</td>\n",
       "      <td>0</td>\n",
       "      <td>2</td>\n",
       "      <td>23.444712</td>\n",
       "      <td>0</td>\n",
       "      <td>9.672637</td>\n",
       "      <td>7.362861</td>\n",
       "      <td>6.717272</td>\n",
       "      <td>...</td>\n",
       "      <td>1</td>\n",
       "      <td>3.481549</td>\n",
       "      <td>1.713274</td>\n",
       "      <td>0</td>\n",
       "      <td>1</td>\n",
       "      <td>1</td>\n",
       "      <td>0</td>\n",
       "      <td>1</td>\n",
       "      <td>1</td>\n",
       "      <td>0</td>\n",
       "    </tr>\n",
       "    <tr>\n",
       "      <th>2391</th>\n",
       "      <td>7425</td>\n",
       "      <td>26</td>\n",
       "      <td>1</td>\n",
       "      <td>0</td>\n",
       "      <td>0</td>\n",
       "      <td>28.123021</td>\n",
       "      <td>1</td>\n",
       "      <td>1.613138</td>\n",
       "      <td>7.412878</td>\n",
       "      <td>8.512253</td>\n",
       "      <td>...</td>\n",
       "      <td>0</td>\n",
       "      <td>2.280613</td>\n",
       "      <td>2.453284</td>\n",
       "      <td>1</td>\n",
       "      <td>1</td>\n",
       "      <td>0</td>\n",
       "      <td>0</td>\n",
       "      <td>1</td>\n",
       "      <td>0</td>\n",
       "      <td>0</td>\n",
       "    </tr>\n",
       "  </tbody>\n",
       "</table>\n",
       "<p>2392 rows × 28 columns</p>\n",
       "</div>"
      ],
      "text/plain": [
       "      PatientID  Age  Gender  Ethnicity  EducationLevel        BMI  Smoking  \\\n",
       "0          5034   63       0          1               0  15.848744        0   \n",
       "1          5035   26       1          2               2  22.757042        0   \n",
       "2          5036   57       0          2               1  18.395396        0   \n",
       "3          5037   40       1          2               1  38.515278        0   \n",
       "4          5038   61       0          0               3  19.283802        0   \n",
       "...         ...  ...     ...        ...             ...        ...      ...   \n",
       "2387       7421   43       1          0               2  29.059613        0   \n",
       "2388       7422   18       1          0               1  20.740850        0   \n",
       "2389       7423   54       0          3               2  37.079560        0   \n",
       "2390       7424   46       1          0               2  23.444712        0   \n",
       "2391       7425   26       1          0               0  28.123021        1   \n",
       "\n",
       "      PhysicalActivity  DietQuality  SleepQuality  ...  \\\n",
       "0             0.894448     5.488696      8.701003  ...   \n",
       "1             5.897329     6.341014      5.153966  ...   \n",
       "2             6.739367     9.196237      6.840647  ...   \n",
       "3             1.404503     5.826532      4.253036  ...   \n",
       "4             4.604493     3.127048      9.625799  ...   \n",
       "...                ...          ...           ...  ...   \n",
       "2387          3.019854     6.119637      8.300960  ...   \n",
       "2388          5.805180     4.386992      7.731192  ...   \n",
       "2389          4.735169     8.214064      7.483521  ...   \n",
       "2390          9.672637     7.362861      6.717272  ...   \n",
       "2391          1.613138     7.412878      8.512253  ...   \n",
       "\n",
       "      GastroesophagealReflux  LungFunctionFEV1  LungFunctionFVC  Wheezing  \\\n",
       "0                          0          1.369051         4.941206         0   \n",
       "1                          0          2.197767         1.702393         1   \n",
       "2                          0          1.698011         5.022553         1   \n",
       "3                          0          3.032037         2.300159         1   \n",
       "4                          0          3.470589         3.067944         1   \n",
       "...                      ...               ...              ...       ...   \n",
       "2387                       0          3.125249         5.166032         0   \n",
       "2388                       0          1.132977         5.509502         0   \n",
       "2389                       0          1.685962         3.346877         1   \n",
       "2390                       1          3.481549         1.713274         0   \n",
       "2391                       0          2.280613         2.453284         1   \n",
       "\n",
       "      ShortnessOfBreath  ChestTightness  Coughing  NighttimeSymptoms  \\\n",
       "0                     0               1         0                  0   \n",
       "1                     0               0         1                  1   \n",
       "2                     1               1         0                  1   \n",
       "3                     0               1         1                  1   \n",
       "4                     1               1         0                  0   \n",
       "...                 ...             ...       ...                ...   \n",
       "2387                  1               0         0                  0   \n",
       "2388                  0               0         1                  1   \n",
       "2389                  0               1         1                  0   \n",
       "2390                  1               1         0                  1   \n",
       "2391                  1               0         0                  1   \n",
       "\n",
       "      ExerciseInduced  Diagnosis  \n",
       "0                   1          0  \n",
       "1                   1          0  \n",
       "2                   1          0  \n",
       "3                   0          0  \n",
       "4                   1          0  \n",
       "...               ...        ...  \n",
       "2387                1          1  \n",
       "2388                0          1  \n",
       "2389                1          1  \n",
       "2390                1          0  \n",
       "2391                0          0  \n",
       "\n",
       "[2392 rows x 28 columns]"
      ]
     },
     "execution_count": 34,
     "metadata": {},
     "output_type": "execute_result"
    }
   ],
   "source": [
    "df"
   ]
  },
  {
   "cell_type": "code",
   "execution_count": 35,
   "id": "ed92196d-ed69-49ae-9039-7acb0da9e31e",
   "metadata": {},
   "outputs": [],
   "source": [
    "df.drop(columns=['PatientID'], inplace=True)"
   ]
  },
  {
   "cell_type": "code",
   "execution_count": 36,
   "id": "5c2550d0-c575-4ffa-99bb-e4635bf47206",
   "metadata": {},
   "outputs": [
    {
     "data": {
      "text/plain": [
       "array([1, 2, 0, 3], dtype=int64)"
      ]
     },
     "execution_count": 36,
     "metadata": {},
     "output_type": "execute_result"
    }
   ],
   "source": [
    "df['Ethnicity'].unique()"
   ]
  },
  {
   "cell_type": "code",
   "execution_count": 37,
   "id": "de15ee96-2146-40cc-a0b3-f23cd6342cb8",
   "metadata": {},
   "outputs": [],
   "source": [
    "df.drop(columns=['Ethnicity'], inplace=True)"
   ]
  },
  {
   "cell_type": "code",
   "execution_count": 38,
   "id": "4a5d49aa-b96f-497d-baf6-c67447a2b3a8",
   "metadata": {},
   "outputs": [
    {
     "data": {
      "text/html": [
       "<div>\n",
       "<style scoped>\n",
       "    .dataframe tbody tr th:only-of-type {\n",
       "        vertical-align: middle;\n",
       "    }\n",
       "\n",
       "    .dataframe tbody tr th {\n",
       "        vertical-align: top;\n",
       "    }\n",
       "\n",
       "    .dataframe thead th {\n",
       "        text-align: right;\n",
       "    }\n",
       "</style>\n",
       "<table border=\"1\" class=\"dataframe\">\n",
       "  <thead>\n",
       "    <tr style=\"text-align: right;\">\n",
       "      <th></th>\n",
       "      <th>Age</th>\n",
       "      <th>Gender</th>\n",
       "      <th>EducationLevel</th>\n",
       "      <th>BMI</th>\n",
       "      <th>Smoking</th>\n",
       "      <th>PhysicalActivity</th>\n",
       "      <th>DietQuality</th>\n",
       "      <th>SleepQuality</th>\n",
       "      <th>PollutionExposure</th>\n",
       "      <th>PollenExposure</th>\n",
       "      <th>...</th>\n",
       "      <th>GastroesophagealReflux</th>\n",
       "      <th>LungFunctionFEV1</th>\n",
       "      <th>LungFunctionFVC</th>\n",
       "      <th>Wheezing</th>\n",
       "      <th>ShortnessOfBreath</th>\n",
       "      <th>ChestTightness</th>\n",
       "      <th>Coughing</th>\n",
       "      <th>NighttimeSymptoms</th>\n",
       "      <th>ExerciseInduced</th>\n",
       "      <th>Diagnosis</th>\n",
       "    </tr>\n",
       "  </thead>\n",
       "  <tbody>\n",
       "    <tr>\n",
       "      <th>0</th>\n",
       "      <td>63</td>\n",
       "      <td>0</td>\n",
       "      <td>0</td>\n",
       "      <td>15.848744</td>\n",
       "      <td>0</td>\n",
       "      <td>0.894448</td>\n",
       "      <td>5.488696</td>\n",
       "      <td>8.701003</td>\n",
       "      <td>7.388481</td>\n",
       "      <td>2.855578</td>\n",
       "      <td>...</td>\n",
       "      <td>0</td>\n",
       "      <td>1.369051</td>\n",
       "      <td>4.941206</td>\n",
       "      <td>0</td>\n",
       "      <td>0</td>\n",
       "      <td>1</td>\n",
       "      <td>0</td>\n",
       "      <td>0</td>\n",
       "      <td>1</td>\n",
       "      <td>0</td>\n",
       "    </tr>\n",
       "    <tr>\n",
       "      <th>1</th>\n",
       "      <td>26</td>\n",
       "      <td>1</td>\n",
       "      <td>2</td>\n",
       "      <td>22.757042</td>\n",
       "      <td>0</td>\n",
       "      <td>5.897329</td>\n",
       "      <td>6.341014</td>\n",
       "      <td>5.153966</td>\n",
       "      <td>1.969838</td>\n",
       "      <td>7.457665</td>\n",
       "      <td>...</td>\n",
       "      <td>0</td>\n",
       "      <td>2.197767</td>\n",
       "      <td>1.702393</td>\n",
       "      <td>1</td>\n",
       "      <td>0</td>\n",
       "      <td>0</td>\n",
       "      <td>1</td>\n",
       "      <td>1</td>\n",
       "      <td>1</td>\n",
       "      <td>0</td>\n",
       "    </tr>\n",
       "    <tr>\n",
       "      <th>2</th>\n",
       "      <td>57</td>\n",
       "      <td>0</td>\n",
       "      <td>1</td>\n",
       "      <td>18.395396</td>\n",
       "      <td>0</td>\n",
       "      <td>6.739367</td>\n",
       "      <td>9.196237</td>\n",
       "      <td>6.840647</td>\n",
       "      <td>1.460593</td>\n",
       "      <td>1.448189</td>\n",
       "      <td>...</td>\n",
       "      <td>0</td>\n",
       "      <td>1.698011</td>\n",
       "      <td>5.022553</td>\n",
       "      <td>1</td>\n",
       "      <td>1</td>\n",
       "      <td>1</td>\n",
       "      <td>0</td>\n",
       "      <td>1</td>\n",
       "      <td>1</td>\n",
       "      <td>0</td>\n",
       "    </tr>\n",
       "    <tr>\n",
       "      <th>3</th>\n",
       "      <td>40</td>\n",
       "      <td>1</td>\n",
       "      <td>1</td>\n",
       "      <td>38.515278</td>\n",
       "      <td>0</td>\n",
       "      <td>1.404503</td>\n",
       "      <td>5.826532</td>\n",
       "      <td>4.253036</td>\n",
       "      <td>0.581905</td>\n",
       "      <td>7.571845</td>\n",
       "      <td>...</td>\n",
       "      <td>0</td>\n",
       "      <td>3.032037</td>\n",
       "      <td>2.300159</td>\n",
       "      <td>1</td>\n",
       "      <td>0</td>\n",
       "      <td>1</td>\n",
       "      <td>1</td>\n",
       "      <td>1</td>\n",
       "      <td>0</td>\n",
       "      <td>0</td>\n",
       "    </tr>\n",
       "    <tr>\n",
       "      <th>4</th>\n",
       "      <td>61</td>\n",
       "      <td>0</td>\n",
       "      <td>3</td>\n",
       "      <td>19.283802</td>\n",
       "      <td>0</td>\n",
       "      <td>4.604493</td>\n",
       "      <td>3.127048</td>\n",
       "      <td>9.625799</td>\n",
       "      <td>0.980875</td>\n",
       "      <td>3.049807</td>\n",
       "      <td>...</td>\n",
       "      <td>0</td>\n",
       "      <td>3.470589</td>\n",
       "      <td>3.067944</td>\n",
       "      <td>1</td>\n",
       "      <td>1</td>\n",
       "      <td>1</td>\n",
       "      <td>0</td>\n",
       "      <td>0</td>\n",
       "      <td>1</td>\n",
       "      <td>0</td>\n",
       "    </tr>\n",
       "    <tr>\n",
       "      <th>...</th>\n",
       "      <td>...</td>\n",
       "      <td>...</td>\n",
       "      <td>...</td>\n",
       "      <td>...</td>\n",
       "      <td>...</td>\n",
       "      <td>...</td>\n",
       "      <td>...</td>\n",
       "      <td>...</td>\n",
       "      <td>...</td>\n",
       "      <td>...</td>\n",
       "      <td>...</td>\n",
       "      <td>...</td>\n",
       "      <td>...</td>\n",
       "      <td>...</td>\n",
       "      <td>...</td>\n",
       "      <td>...</td>\n",
       "      <td>...</td>\n",
       "      <td>...</td>\n",
       "      <td>...</td>\n",
       "      <td>...</td>\n",
       "      <td>...</td>\n",
       "    </tr>\n",
       "    <tr>\n",
       "      <th>2387</th>\n",
       "      <td>43</td>\n",
       "      <td>1</td>\n",
       "      <td>2</td>\n",
       "      <td>29.059613</td>\n",
       "      <td>0</td>\n",
       "      <td>3.019854</td>\n",
       "      <td>6.119637</td>\n",
       "      <td>8.300960</td>\n",
       "      <td>2.483829</td>\n",
       "      <td>7.314582</td>\n",
       "      <td>...</td>\n",
       "      <td>0</td>\n",
       "      <td>3.125249</td>\n",
       "      <td>5.166032</td>\n",
       "      <td>0</td>\n",
       "      <td>1</td>\n",
       "      <td>0</td>\n",
       "      <td>0</td>\n",
       "      <td>0</td>\n",
       "      <td>1</td>\n",
       "      <td>1</td>\n",
       "    </tr>\n",
       "    <tr>\n",
       "      <th>2388</th>\n",
       "      <td>18</td>\n",
       "      <td>1</td>\n",
       "      <td>1</td>\n",
       "      <td>20.740850</td>\n",
       "      <td>0</td>\n",
       "      <td>5.805180</td>\n",
       "      <td>4.386992</td>\n",
       "      <td>7.731192</td>\n",
       "      <td>7.733983</td>\n",
       "      <td>2.279073</td>\n",
       "      <td>...</td>\n",
       "      <td>0</td>\n",
       "      <td>1.132977</td>\n",
       "      <td>5.509502</td>\n",
       "      <td>0</td>\n",
       "      <td>0</td>\n",
       "      <td>0</td>\n",
       "      <td>1</td>\n",
       "      <td>1</td>\n",
       "      <td>0</td>\n",
       "      <td>1</td>\n",
       "    </tr>\n",
       "    <tr>\n",
       "      <th>2389</th>\n",
       "      <td>54</td>\n",
       "      <td>0</td>\n",
       "      <td>2</td>\n",
       "      <td>37.079560</td>\n",
       "      <td>0</td>\n",
       "      <td>4.735169</td>\n",
       "      <td>8.214064</td>\n",
       "      <td>7.483521</td>\n",
       "      <td>2.794847</td>\n",
       "      <td>3.055139</td>\n",
       "      <td>...</td>\n",
       "      <td>0</td>\n",
       "      <td>1.685962</td>\n",
       "      <td>3.346877</td>\n",
       "      <td>1</td>\n",
       "      <td>0</td>\n",
       "      <td>1</td>\n",
       "      <td>1</td>\n",
       "      <td>0</td>\n",
       "      <td>1</td>\n",
       "      <td>1</td>\n",
       "    </tr>\n",
       "    <tr>\n",
       "      <th>2390</th>\n",
       "      <td>46</td>\n",
       "      <td>1</td>\n",
       "      <td>2</td>\n",
       "      <td>23.444712</td>\n",
       "      <td>0</td>\n",
       "      <td>9.672637</td>\n",
       "      <td>7.362861</td>\n",
       "      <td>6.717272</td>\n",
       "      <td>9.448862</td>\n",
       "      <td>7.712584</td>\n",
       "      <td>...</td>\n",
       "      <td>1</td>\n",
       "      <td>3.481549</td>\n",
       "      <td>1.713274</td>\n",
       "      <td>0</td>\n",
       "      <td>1</td>\n",
       "      <td>1</td>\n",
       "      <td>0</td>\n",
       "      <td>1</td>\n",
       "      <td>1</td>\n",
       "      <td>0</td>\n",
       "    </tr>\n",
       "    <tr>\n",
       "      <th>2391</th>\n",
       "      <td>26</td>\n",
       "      <td>1</td>\n",
       "      <td>0</td>\n",
       "      <td>28.123021</td>\n",
       "      <td>1</td>\n",
       "      <td>1.613138</td>\n",
       "      <td>7.412878</td>\n",
       "      <td>8.512253</td>\n",
       "      <td>3.231709</td>\n",
       "      <td>3.874028</td>\n",
       "      <td>...</td>\n",
       "      <td>0</td>\n",
       "      <td>2.280613</td>\n",
       "      <td>2.453284</td>\n",
       "      <td>1</td>\n",
       "      <td>1</td>\n",
       "      <td>0</td>\n",
       "      <td>0</td>\n",
       "      <td>1</td>\n",
       "      <td>0</td>\n",
       "      <td>0</td>\n",
       "    </tr>\n",
       "  </tbody>\n",
       "</table>\n",
       "<p>2392 rows × 26 columns</p>\n",
       "</div>"
      ],
      "text/plain": [
       "      Age  Gender  EducationLevel        BMI  Smoking  PhysicalActivity  \\\n",
       "0      63       0               0  15.848744        0          0.894448   \n",
       "1      26       1               2  22.757042        0          5.897329   \n",
       "2      57       0               1  18.395396        0          6.739367   \n",
       "3      40       1               1  38.515278        0          1.404503   \n",
       "4      61       0               3  19.283802        0          4.604493   \n",
       "...   ...     ...             ...        ...      ...               ...   \n",
       "2387   43       1               2  29.059613        0          3.019854   \n",
       "2388   18       1               1  20.740850        0          5.805180   \n",
       "2389   54       0               2  37.079560        0          4.735169   \n",
       "2390   46       1               2  23.444712        0          9.672637   \n",
       "2391   26       1               0  28.123021        1          1.613138   \n",
       "\n",
       "      DietQuality  SleepQuality  PollutionExposure  PollenExposure  ...  \\\n",
       "0        5.488696      8.701003           7.388481        2.855578  ...   \n",
       "1        6.341014      5.153966           1.969838        7.457665  ...   \n",
       "2        9.196237      6.840647           1.460593        1.448189  ...   \n",
       "3        5.826532      4.253036           0.581905        7.571845  ...   \n",
       "4        3.127048      9.625799           0.980875        3.049807  ...   \n",
       "...           ...           ...                ...             ...  ...   \n",
       "2387     6.119637      8.300960           2.483829        7.314582  ...   \n",
       "2388     4.386992      7.731192           7.733983        2.279073  ...   \n",
       "2389     8.214064      7.483521           2.794847        3.055139  ...   \n",
       "2390     7.362861      6.717272           9.448862        7.712584  ...   \n",
       "2391     7.412878      8.512253           3.231709        3.874028  ...   \n",
       "\n",
       "      GastroesophagealReflux  LungFunctionFEV1  LungFunctionFVC  Wheezing  \\\n",
       "0                          0          1.369051         4.941206         0   \n",
       "1                          0          2.197767         1.702393         1   \n",
       "2                          0          1.698011         5.022553         1   \n",
       "3                          0          3.032037         2.300159         1   \n",
       "4                          0          3.470589         3.067944         1   \n",
       "...                      ...               ...              ...       ...   \n",
       "2387                       0          3.125249         5.166032         0   \n",
       "2388                       0          1.132977         5.509502         0   \n",
       "2389                       0          1.685962         3.346877         1   \n",
       "2390                       1          3.481549         1.713274         0   \n",
       "2391                       0          2.280613         2.453284         1   \n",
       "\n",
       "      ShortnessOfBreath  ChestTightness  Coughing  NighttimeSymptoms  \\\n",
       "0                     0               1         0                  0   \n",
       "1                     0               0         1                  1   \n",
       "2                     1               1         0                  1   \n",
       "3                     0               1         1                  1   \n",
       "4                     1               1         0                  0   \n",
       "...                 ...             ...       ...                ...   \n",
       "2387                  1               0         0                  0   \n",
       "2388                  0               0         1                  1   \n",
       "2389                  0               1         1                  0   \n",
       "2390                  1               1         0                  1   \n",
       "2391                  1               0         0                  1   \n",
       "\n",
       "      ExerciseInduced  Diagnosis  \n",
       "0                   1          0  \n",
       "1                   1          0  \n",
       "2                   1          0  \n",
       "3                   0          0  \n",
       "4                   1          0  \n",
       "...               ...        ...  \n",
       "2387                1          1  \n",
       "2388                0          1  \n",
       "2389                1          1  \n",
       "2390                1          0  \n",
       "2391                0          0  \n",
       "\n",
       "[2392 rows x 26 columns]"
      ]
     },
     "execution_count": 38,
     "metadata": {},
     "output_type": "execute_result"
    }
   ],
   "source": [
    "df"
   ]
  },
  {
   "cell_type": "code",
   "execution_count": 39,
   "id": "8b503314-4e1c-4083-b079-a9676ba7c303",
   "metadata": {},
   "outputs": [
    {
     "data": {
      "text/plain": [
       "Index(['Age', 'Gender', 'EducationLevel', 'BMI', 'Smoking', 'PhysicalActivity',\n",
       "       'DietQuality', 'SleepQuality', 'PollutionExposure', 'PollenExposure',\n",
       "       'DustExposure', 'PetAllergy', 'FamilyHistoryAsthma',\n",
       "       'HistoryOfAllergies', 'Eczema', 'HayFever', 'GastroesophagealReflux',\n",
       "       'LungFunctionFEV1', 'LungFunctionFVC', 'Wheezing', 'ShortnessOfBreath',\n",
       "       'ChestTightness', 'Coughing', 'NighttimeSymptoms', 'ExerciseInduced',\n",
       "       'Diagnosis'],\n",
       "      dtype='object')"
      ]
     },
     "execution_count": 39,
     "metadata": {},
     "output_type": "execute_result"
    }
   ],
   "source": [
    "df.columns"
   ]
  },
  {
   "cell_type": "code",
   "execution_count": 40,
   "id": "23e5bc74-ef3d-4e3f-9420-43114d39573a",
   "metadata": {},
   "outputs": [],
   "source": [
    "df.drop(columns=[\n",
    "    'EducationLevel', 'PollutionExposure', 'PollenExposure', \n",
    "    'DustExposure', 'PetAllergy', 'HistoryOfAllergies', \n",
    "    'Eczema', 'HayFever', 'GastroesophagealReflux', \n",
    "    'ChestTightness', 'Coughing', 'NighttimeSymptoms', \n",
    "    'ExerciseInduced'\n",
    "], inplace=True)\n"
   ]
  },
  {
   "cell_type": "code",
   "execution_count": 41,
   "id": "4c743546-beb8-458d-92fb-ef9227feb49b",
   "metadata": {},
   "outputs": [
    {
     "data": {
      "text/plain": [
       "Index(['Age', 'Gender', 'BMI', 'Smoking', 'PhysicalActivity', 'DietQuality',\n",
       "       'SleepQuality', 'FamilyHistoryAsthma', 'LungFunctionFEV1',\n",
       "       'LungFunctionFVC', 'Wheezing', 'ShortnessOfBreath', 'Diagnosis'],\n",
       "      dtype='object')"
      ]
     },
     "execution_count": 41,
     "metadata": {},
     "output_type": "execute_result"
    }
   ],
   "source": [
    "df.columns"
   ]
  },
  {
   "cell_type": "code",
   "execution_count": 42,
   "id": "ff044dca-0cdf-428f-8421-a3df99b057ad",
   "metadata": {},
   "outputs": [],
   "source": [
    "df.to_csv('dataset.csv', index=False)"
   ]
  },
  {
   "cell_type": "code",
   "execution_count": 43,
   "id": "d2376ab2-f497-4e35-a157-ce93bc9c99f1",
   "metadata": {},
   "outputs": [
    {
     "data": {
      "text/plain": [
       "Age                      int64\n",
       "Gender                   int64\n",
       "BMI                    float64\n",
       "Smoking                  int64\n",
       "PhysicalActivity       float64\n",
       "DietQuality            float64\n",
       "SleepQuality           float64\n",
       "FamilyHistoryAsthma      int64\n",
       "LungFunctionFEV1       float64\n",
       "LungFunctionFVC        float64\n",
       "Wheezing                 int64\n",
       "ShortnessOfBreath        int64\n",
       "Diagnosis                int64\n",
       "dtype: object"
      ]
     },
     "execution_count": 43,
     "metadata": {},
     "output_type": "execute_result"
    }
   ],
   "source": [
    "df.dtypes"
   ]
  },
  {
   "cell_type": "markdown",
   "id": "b71a2146-6a0e-4c5b-9540-51a1345f2661",
   "metadata": {},
   "source": [
    "# Labelling x and y"
   ]
  },
  {
   "cell_type": "code",
   "execution_count": 44,
   "id": "9bc63031-40e9-4a2d-92e0-6d4de512fa2f",
   "metadata": {},
   "outputs": [],
   "source": [
    "x=df.drop(['Diagnosis'],axis=1)"
   ]
  },
  {
   "cell_type": "code",
   "execution_count": 45,
   "id": "8c93f9b6-c6a8-4c52-8288-1ba7769266f8",
   "metadata": {},
   "outputs": [],
   "source": [
    "y=df['Diagnosis']"
   ]
  },
  {
   "cell_type": "code",
   "execution_count": 46,
   "id": "42103035-8cdf-410f-b68f-6d579fbf78da",
   "metadata": {},
   "outputs": [
    {
     "data": {
      "text/plain": [
       "(2392, 12)"
      ]
     },
     "execution_count": 46,
     "metadata": {},
     "output_type": "execute_result"
    }
   ],
   "source": [
    "x.shape"
   ]
  },
  {
   "cell_type": "code",
   "execution_count": 47,
   "id": "70f6dbef-7956-4cfb-85c5-d571ea5dc05a",
   "metadata": {},
   "outputs": [
    {
     "data": {
      "text/plain": [
       "(2392,)"
      ]
     },
     "execution_count": 47,
     "metadata": {},
     "output_type": "execute_result"
    }
   ],
   "source": [
    "y.shape"
   ]
  },
  {
   "cell_type": "markdown",
   "id": "34414570-ba06-4b3f-807d-69785a0210cf",
   "metadata": {},
   "source": [
    "# Spiliting data from the tarin se"
   ]
  },
  {
   "cell_type": "code",
   "execution_count": 48,
   "id": "bf150923-5a8d-4ab2-9879-01b8c625b80e",
   "metadata": {},
   "outputs": [],
   "source": [
    "from sklearn.model_selection import train_test_split\n",
    "x_train,x_test,y_train,y_test=train_test_split(x,y,test_size=0.2,random_state=42)"
   ]
  },
  {
   "cell_type": "code",
   "execution_count": 49,
   "id": "c9a8568a-c3e2-42c5-b4f9-945e7d96f3d9",
   "metadata": {},
   "outputs": [
    {
     "data": {
      "text/plain": [
       "(1913, 12)"
      ]
     },
     "execution_count": 49,
     "metadata": {},
     "output_type": "execute_result"
    }
   ],
   "source": [
    "x_train.shape"
   ]
  },
  {
   "cell_type": "code",
   "execution_count": 50,
   "id": "9dfdd372-9c09-46f9-9525-84f4037d40ab",
   "metadata": {},
   "outputs": [
    {
     "data": {
      "text/plain": [
       "(479, 12)"
      ]
     },
     "execution_count": 50,
     "metadata": {},
     "output_type": "execute_result"
    }
   ],
   "source": [
    "x_test.shape"
   ]
  },
  {
   "cell_type": "code",
   "execution_count": 51,
   "id": "167ffad9-46a4-4f00-889a-8c18279f17b3",
   "metadata": {},
   "outputs": [
    {
     "data": {
      "text/plain": [
       "(1913,)"
      ]
     },
     "execution_count": 51,
     "metadata": {},
     "output_type": "execute_result"
    }
   ],
   "source": [
    "y_train.shape"
   ]
  },
  {
   "cell_type": "code",
   "execution_count": 52,
   "id": "2b1ee7f8-f776-4a7a-97e9-f9cca45179cc",
   "metadata": {},
   "outputs": [
    {
     "data": {
      "text/plain": [
       "(479,)"
      ]
     },
     "execution_count": 52,
     "metadata": {},
     "output_type": "execute_result"
    }
   ],
   "source": [
    "y_test.shape"
   ]
  },
  {
   "cell_type": "code",
   "execution_count": 104,
   "id": "90788d9c-1a01-4943-8730-93f77a8c03c9",
   "metadata": {},
   "outputs": [],
   "source": [
    "from sklearn.preprocessing import StandardScaler"
   ]
  },
  {
   "cell_type": "code",
   "execution_count": 105,
   "id": "939cb9cb-63c2-42a4-9679-8896a8ecefe8",
   "metadata": {},
   "outputs": [],
   "source": [
    "sc= StandardScaler()\n",
    "x_train=sc.fit_transform(x_train)\n",
    "x_test=sc.transform(x_test)"
   ]
  },
  {
   "cell_type": "code",
   "execution_count": 106,
   "id": "2ed94e28-ff85-427b-8edb-104d17f01aec",
   "metadata": {},
   "outputs": [
    {
     "data": {
      "text/plain": [
       "array([[-0.18795667, -0.98495375,  1.69100851, ..., -0.87670179,\n",
       "         0.83512083,  0.9963475 ],\n",
       "       [ 1.29975419,  1.0152761 ,  0.12067877, ...,  1.53543197,\n",
       "         0.83512083,  0.9963475 ],\n",
       "       [-0.14146571, -0.98495375,  0.07006684, ...,  0.4006064 ,\n",
       "         0.83512083, -1.00366589],\n",
       "       ...,\n",
       "       [ 0.88133551, -0.98495375, -0.9025367 , ..., -0.19239941,\n",
       "         0.83512083,  0.9963475 ],\n",
       "       [-1.48970368, -0.98495375,  1.26473122, ..., -1.71739229,\n",
       "         0.83512083,  0.9963475 ],\n",
       "       [-0.88532114,  1.0152761 ,  0.78891611, ...,  1.46795232,\n",
       "         0.83512083, -1.00366589]])"
      ]
     },
     "execution_count": 106,
     "metadata": {},
     "output_type": "execute_result"
    }
   ],
   "source": [
    "x_train"
   ]
  },
  {
   "cell_type": "markdown",
   "id": "230a959a-64ef-4014-8e48-766366bae1ea",
   "metadata": {},
   "source": [
    " is process wil be applied to feature input for bringing all the value to sma e scale.."
   ]
  },
  {
   "cell_type": "code",
   "execution_count": 107,
   "id": "77954866-a239-4bc6-94db-fcb4f0855f1d",
   "metadata": {},
   "outputs": [
    {
     "data": {
      "text/plain": [
       "array([[ 0.18397104, -0.98495375,  1.16044841, ..., -1.57483787,\n",
       "        -1.19743152,  0.9963475 ],\n",
       "       [-1.21075789, -0.98495375, -1.23050214, ..., -0.91907305,\n",
       "         0.83512083,  0.9963475 ],\n",
       "       [-0.79233921, -0.98495375,  0.65817818, ...,  1.4037011 ,\n",
       "         0.83512083, -1.00366589],\n",
       "       ...,\n",
       "       [-0.46690246,  1.0152761 ,  1.13057345, ..., -0.30498349,\n",
       "         0.83512083,  0.9963475 ],\n",
       "       [ 0.18397104,  1.0152761 ,  1.21108741, ...,  0.13491278,\n",
       "         0.83512083,  0.9963475 ],\n",
       "       [ 0.41642586, -0.98495375,  0.13242986, ..., -0.55038509,\n",
       "        -1.19743152, -1.00366589]])"
      ]
     },
     "execution_count": 107,
     "metadata": {},
     "output_type": "execute_result"
    }
   ],
   "source": [
    "x_test"
   ]
  },
  {
   "cell_type": "code",
   "execution_count": 108,
   "id": "4b9da786-fffb-48af-9c2e-da585b477805",
   "metadata": {},
   "outputs": [],
   "source": [
    "from sklearn.linear_model import LogisticRegression\n",
    "lr=LogisticRegression()"
   ]
  },
  {
   "cell_type": "code",
   "execution_count": 109,
   "id": "04ae6f85-d4dd-4b7e-b3bd-5a46f227a6bd",
   "metadata": {},
   "outputs": [
    {
     "data": {
      "text/html": [
       "<style>#sk-container-id-5 {color: black;}#sk-container-id-5 pre{padding: 0;}#sk-container-id-5 div.sk-toggleable {background-color: white;}#sk-container-id-5 label.sk-toggleable__label {cursor: pointer;display: block;width: 100%;margin-bottom: 0;padding: 0.3em;box-sizing: border-box;text-align: center;}#sk-container-id-5 label.sk-toggleable__label-arrow:before {content: \"▸\";float: left;margin-right: 0.25em;color: #696969;}#sk-container-id-5 label.sk-toggleable__label-arrow:hover:before {color: black;}#sk-container-id-5 div.sk-estimator:hover label.sk-toggleable__label-arrow:before {color: black;}#sk-container-id-5 div.sk-toggleable__content {max-height: 0;max-width: 0;overflow: hidden;text-align: left;background-color: #f0f8ff;}#sk-container-id-5 div.sk-toggleable__content pre {margin: 0.2em;color: black;border-radius: 0.25em;background-color: #f0f8ff;}#sk-container-id-5 input.sk-toggleable__control:checked~div.sk-toggleable__content {max-height: 200px;max-width: 100%;overflow: auto;}#sk-container-id-5 input.sk-toggleable__control:checked~label.sk-toggleable__label-arrow:before {content: \"▾\";}#sk-container-id-5 div.sk-estimator input.sk-toggleable__control:checked~label.sk-toggleable__label {background-color: #d4ebff;}#sk-container-id-5 div.sk-label input.sk-toggleable__control:checked~label.sk-toggleable__label {background-color: #d4ebff;}#sk-container-id-5 input.sk-hidden--visually {border: 0;clip: rect(1px 1px 1px 1px);clip: rect(1px, 1px, 1px, 1px);height: 1px;margin: -1px;overflow: hidden;padding: 0;position: absolute;width: 1px;}#sk-container-id-5 div.sk-estimator {font-family: monospace;background-color: #f0f8ff;border: 1px dotted black;border-radius: 0.25em;box-sizing: border-box;margin-bottom: 0.5em;}#sk-container-id-5 div.sk-estimator:hover {background-color: #d4ebff;}#sk-container-id-5 div.sk-parallel-item::after {content: \"\";width: 100%;border-bottom: 1px solid gray;flex-grow: 1;}#sk-container-id-5 div.sk-label:hover label.sk-toggleable__label {background-color: #d4ebff;}#sk-container-id-5 div.sk-serial::before {content: \"\";position: absolute;border-left: 1px solid gray;box-sizing: border-box;top: 0;bottom: 0;left: 50%;z-index: 0;}#sk-container-id-5 div.sk-serial {display: flex;flex-direction: column;align-items: center;background-color: white;padding-right: 0.2em;padding-left: 0.2em;position: relative;}#sk-container-id-5 div.sk-item {position: relative;z-index: 1;}#sk-container-id-5 div.sk-parallel {display: flex;align-items: stretch;justify-content: center;background-color: white;position: relative;}#sk-container-id-5 div.sk-item::before, #sk-container-id-5 div.sk-parallel-item::before {content: \"\";position: absolute;border-left: 1px solid gray;box-sizing: border-box;top: 0;bottom: 0;left: 50%;z-index: -1;}#sk-container-id-5 div.sk-parallel-item {display: flex;flex-direction: column;z-index: 1;position: relative;background-color: white;}#sk-container-id-5 div.sk-parallel-item:first-child::after {align-self: flex-end;width: 50%;}#sk-container-id-5 div.sk-parallel-item:last-child::after {align-self: flex-start;width: 50%;}#sk-container-id-5 div.sk-parallel-item:only-child::after {width: 0;}#sk-container-id-5 div.sk-dashed-wrapped {border: 1px dashed gray;margin: 0 0.4em 0.5em 0.4em;box-sizing: border-box;padding-bottom: 0.4em;background-color: white;}#sk-container-id-5 div.sk-label label {font-family: monospace;font-weight: bold;display: inline-block;line-height: 1.2em;}#sk-container-id-5 div.sk-label-container {text-align: center;}#sk-container-id-5 div.sk-container {/* jupyter's `normalize.less` sets `[hidden] { display: none; }` but bootstrap.min.css set `[hidden] { display: none !important; }` so we also need the `!important` here to be able to override the default hidden behavior on the sphinx rendered scikit-learn.org. See: https://github.com/scikit-learn/scikit-learn/issues/21755 */display: inline-block !important;position: relative;}#sk-container-id-5 div.sk-text-repr-fallback {display: none;}</style><div id=\"sk-container-id-5\" class=\"sk-top-container\"><div class=\"sk-text-repr-fallback\"><pre>LogisticRegression()</pre><b>In a Jupyter environment, please rerun this cell to show the HTML representation or trust the notebook. <br />On GitHub, the HTML representation is unable to render, please try loading this page with nbviewer.org.</b></div><div class=\"sk-container\" hidden><div class=\"sk-item\"><div class=\"sk-estimator sk-toggleable\"><input class=\"sk-toggleable__control sk-hidden--visually\" id=\"sk-estimator-id-5\" type=\"checkbox\" checked><label for=\"sk-estimator-id-5\" class=\"sk-toggleable__label sk-toggleable__label-arrow\">LogisticRegression</label><div class=\"sk-toggleable__content\"><pre>LogisticRegression()</pre></div></div></div></div></div>"
      ],
      "text/plain": [
       "LogisticRegression()"
      ]
     },
     "execution_count": 109,
     "metadata": {},
     "output_type": "execute_result"
    }
   ],
   "source": [
    "lr.fit(x_t\n",
    "       \n",
    "       rain,y_train)"
   ]
  },
  {
   "cell_type": "code",
   "execution_count": 110,
   "id": "74385f9c-c9c3-4c6f-96c0-1e0bc8fefe6c",
   "metadata": {},
   "outputs": [],
   "source": [
    "predict_lr=lr.predict(x_test)"
   ]
  },
  {
   "cell_type": "code",
   "execution_count": 111,
   "id": "671e4d43-59a4-4791-8428-9e71d0a6015a",
   "metadata": {},
   "outputs": [
    {
     "data": {
      "text/plain": [
       "array([0, 0, 0, 0, 0, 0, 0, 0, 0, 0, 0, 0, 0, 0, 0, 0, 0, 0, 0, 0, 0, 0,\n",
       "       0, 0, 0, 0, 0, 0, 0, 0, 0, 0, 0, 0, 0, 0, 0, 0, 0, 0, 0, 0, 0, 0,\n",
       "       0, 0, 0, 0, 0, 0, 0, 0, 0, 0, 0, 0, 0, 0, 0, 0, 0, 0, 0, 0, 0, 0,\n",
       "       0, 0, 0, 0, 0, 0, 0, 0, 0, 0, 0, 0, 0, 0, 0, 0, 0, 0, 0, 0, 0, 0,\n",
       "       0, 0, 0, 0, 0, 0, 0, 0, 0, 0, 0, 0, 0, 0, 0, 0, 0, 0, 0, 0, 0, 0,\n",
       "       0, 0, 0, 0, 0, 0, 0, 0, 0, 0, 0, 0, 0, 0, 0, 0, 0, 0, 0, 0, 0, 0,\n",
       "       0, 0, 0, 0, 0, 0, 0, 0, 0, 0, 0, 0, 0, 0, 0, 0, 0, 0, 0, 0, 0, 0,\n",
       "       0, 0, 0, 0, 0, 0, 0, 0, 0, 0, 0, 0, 0, 0, 0, 0, 0, 0, 0, 0, 0, 0,\n",
       "       0, 0, 0, 0, 0, 0, 0, 0, 0, 0, 0, 0, 0, 0, 0, 0, 0, 0, 0, 0, 0, 0,\n",
       "       0, 0, 0, 0, 0, 0, 0, 0, 0, 0, 0, 0, 0, 0, 0, 0, 0, 0, 0, 0, 0, 0,\n",
       "       0, 0, 0, 0, 0, 0, 0, 0, 0, 0, 0, 0, 0, 0, 0, 0, 0, 0, 0, 0, 0, 0,\n",
       "       0, 0, 0, 0, 0, 0, 0, 0, 0, 0, 0, 0, 0, 0, 0, 0, 0, 0, 0, 0, 0, 0,\n",
       "       0, 0, 0, 0, 0, 0, 0, 0, 0, 0, 0, 0, 0, 0, 0, 0, 0, 0, 0, 0, 0, 0,\n",
       "       0, 0, 0, 0, 0, 0, 0, 0, 0, 0, 0, 0, 0, 0, 0, 0, 0, 0, 0, 0, 0, 0,\n",
       "       0, 0, 0, 0, 0, 0, 0, 0, 0, 0, 0, 0, 0, 0, 0, 0, 0, 0, 0, 0, 0, 0,\n",
       "       0, 0, 0, 0, 0, 0, 0, 0, 0, 0, 0, 0, 0, 0, 0, 0, 0, 0, 0, 0, 0, 0,\n",
       "       0, 0, 0, 0, 0, 0, 0, 0, 0, 0, 0, 0, 0, 0, 0, 0, 0, 0, 0, 0, 0, 0,\n",
       "       0, 0, 0, 0, 0, 0, 0, 0, 0, 0, 0, 0, 0, 0, 0, 0, 0, 0, 0, 0, 0, 0,\n",
       "       0, 0, 0, 0, 0, 0, 0, 0, 0, 0, 0, 0, 0, 0, 0, 0, 0, 0, 0, 0, 0, 0,\n",
       "       0, 0, 0, 0, 0, 0, 0, 0, 0, 0, 0, 0, 0, 0, 0, 0, 0, 0, 0, 0, 0, 0,\n",
       "       0, 0, 0, 0, 0, 0, 0, 0, 0, 0, 0, 0, 0, 0, 0, 0, 0, 0, 0, 0, 0, 0,\n",
       "       0, 0, 0, 0, 0, 0, 0, 0, 0, 0, 0, 0, 0, 0, 0, 0, 0], dtype=int64)"
      ]
     },
     "execution_count": 111,
     "metadata": {},
     "output_type": "execute_result"
    }
   ],
   "source": [
    "predict_lr"
   ]
  },
  {
   "cell_type": "code",
   "execution_count": 112,
   "id": "19305a0d-aa3e-4e9e-905f-2e61e7f4223a",
   "metadata": {},
   "outputs": [
    {
     "data": {
      "text/plain": [
       "1004    0\n",
       "196     0\n",
       "2342    0\n",
       "1708    0\n",
       "435     0\n",
       "       ..\n",
       "986     0\n",
       "120     0\n",
       "283     0\n",
       "1740    0\n",
       "1726    0\n",
       "Name: Diagnosis, Length: 479, dtype: int64"
      ]
     },
     "execution_count": 112,
     "metadata": {},
     "output_type": "execute_result"
    }
   ],
   "source": [
    "y_test"
   ]
  },
  {
   "cell_type": "code",
   "execution_count": 113,
   "id": "dbb1cb45-d349-4f58-8b98-84702dd9a4d9",
   "metadata": {},
   "outputs": [],
   "source": [
    "from sklearn.metrics import accuracy_score,confusion_matrix"
   ]
  },
  {
   "cell_type": "code",
   "execution_count": 114,
   "id": "3e59b28e-7d0b-4265-96cf-42b0630d54a9",
   "metadata": {},
   "outputs": [
    {
     "data": {
      "text/plain": [
       "0.9519832985386222"
      ]
     },
     "execution_count": 114,
     "metadata": {},
     "output_type": "execute_result"
    }
   ],
   "source": [
    "accuracy=accuracy_score(y_test,predict_lr)\n",
    "accuracy"
   ]
  },
  {
   "cell_type": "code",
   "execution_count": 115,
   "id": "89a7bef5-9d5a-4232-ad22-8c4b16b9a2e1",
   "metadata": {},
   "outputs": [
    {
     "data": {
      "text/plain": [
       "array([[456,   0],\n",
       "       [ 23,   0]], dtype=int64)"
      ]
     },
     "execution_count": 115,
     "metadata": {},
     "output_type": "execute_result"
    }
   ],
   "source": [
    "cm=confusion_matrix(y_test,predict_lr)\n",
    "cm"
   ]
  },
  {
   "cell_type": "code",
   "execution_count": 65,
   "id": "7121d435-a7cb-4ad7-9821-d85e244ca72a",
   "metadata": {},
   "outputs": [
    {
     "data": {
      "image/png": "[encoded data removed]",
      "text/plain": [
       "<Figure size 800x400 with 2 Axes>"
      ]
     },
     "metadata": {},
     "output_type": "display_data"
    }
   ],
   "source": [
    "import seaborn as sns\n",
    "plt.figure(figsize=(8,4))\n",
    "plt.title('confusion matricx')\n",
    "sns.heatmap(cm,annot=True,fmt='d')\n",
    "plt.xlabel('True value')\n",
    "plt.ylabel('predicted value')\n",
    "plt.show()"
   ]
  },
  {
   "cell_type": "markdown",
   "id": "e930e3cc-a90a-4dbc-9a16-c8618442eab2",
   "metadata": {},
   "source": [
    "# model working for tarin and test dataset"
   ]
  },
  {
   "cell_type": "code",
   "execution_count": 66,
   "id": "55a3418d-0675-4b8c-9913-641617f364aa",
   "metadata": {},
   "outputs": [
    {
     "data": {
      "text/plain": [
       "0.9472033455305803"
      ]
     },
     "execution_count": 66,
     "metadata": {},
     "output_type": "execute_result"
    }
   ],
   "source": [
    "# model working for tarin and test dataset\n",
    "train_score=lr.score(x_train,y_train)\n",
    "train_score"
   ]
  },
  {
   "cell_type": "code",
   "execution_count": 67,
   "id": "fd928f2a-9a84-4580-8a1c-277102c84cb5",
   "metadata": {},
   "outputs": [
    {
     "data": {
      "text/plain": [
       "0.9519832985386222"
      ]
     },
     "execution_count": 67,
     "metadata": {},
     "output_type": "execute_result"
    }
   ],
   "source": [
    "train_score=lr.score(x_test,y_test)\n",
    "train_score"
   ]
  },
  {
   "cell_type": "markdown",
   "id": "0f6f383f-1513-4510-be91-55330a3dada1",
   "metadata": {},
   "source": [
    "# Decision Tree Classifier"
   ]
  },
  {
   "cell_type": "code",
   "execution_count": 68,
   "id": "2c14618b-db3d-4f85-85f1-4cdbe9085f7e",
   "metadata": {},
   "outputs": [],
   "source": [
    "from sklearn.tree import DecisionTreeClassifier\n",
    "dcl=DecisionTreeClassifier()"
   ]
  },
  {
   "cell_type": "code",
   "execution_count": 69,
   "id": "15e9123b-2d22-4b40-894f-97b9fc4257a0",
   "metadata": {},
   "outputs": [
    {
     "data": {
      "text/html": [
       "<style>#sk-container-id-2 {color: black;}#sk-container-id-2 pre{padding: 0;}#sk-container-id-2 div.sk-toggleable {background-color: white;}#sk-container-id-2 label.sk-toggleable__label {cursor: pointer;display: block;width: 100%;margin-bottom: 0;padding: 0.3em;box-sizing: border-box;text-align: center;}#sk-container-id-2 label.sk-toggleable__label-arrow:before {content: \"▸\";float: left;margin-right: 0.25em;color: #696969;}#sk-container-id-2 label.sk-toggleable__label-arrow:hover:before {color: black;}#sk-container-id-2 div.sk-estimator:hover label.sk-toggleable__label-arrow:before {color: black;}#sk-container-id-2 div.sk-toggleable__content {max-height: 0;max-width: 0;overflow: hidden;text-align: left;background-color: #f0f8ff;}#sk-container-id-2 div.sk-toggleable__content pre {margin: 0.2em;color: black;border-radius: 0.25em;background-color: #f0f8ff;}#sk-container-id-2 input.sk-toggleable__control:checked~div.sk-toggleable__content {max-height: 200px;max-width: 100%;overflow: auto;}#sk-container-id-2 input.sk-toggleable__control:checked~label.sk-toggleable__label-arrow:before {content: \"▾\";}#sk-container-id-2 div.sk-estimator input.sk-toggleable__control:checked~label.sk-toggleable__label {background-color: #d4ebff;}#sk-container-id-2 div.sk-label input.sk-toggleable__control:checked~label.sk-toggleable__label {background-color: #d4ebff;}#sk-container-id-2 input.sk-hidden--visually {border: 0;clip: rect(1px 1px 1px 1px);clip: rect(1px, 1px, 1px, 1px);height: 1px;margin: -1px;overflow: hidden;padding: 0;position: absolute;width: 1px;}#sk-container-id-2 div.sk-estimator {font-family: monospace;background-color: #f0f8ff;border: 1px dotted black;border-radius: 0.25em;box-sizing: border-box;margin-bottom: 0.5em;}#sk-container-id-2 div.sk-estimator:hover {background-color: #d4ebff;}#sk-container-id-2 div.sk-parallel-item::after {content: \"\";width: 100%;border-bottom: 1px solid gray;flex-grow: 1;}#sk-container-id-2 div.sk-label:hover label.sk-toggleable__label {background-color: #d4ebff;}#sk-container-id-2 div.sk-serial::before {content: \"\";position: absolute;border-left: 1px solid gray;box-sizing: border-box;top: 0;bottom: 0;left: 50%;z-index: 0;}#sk-container-id-2 div.sk-serial {display: flex;flex-direction: column;align-items: center;background-color: white;padding-right: 0.2em;padding-left: 0.2em;position: relative;}#sk-container-id-2 div.sk-item {position: relative;z-index: 1;}#sk-container-id-2 div.sk-parallel {display: flex;align-items: stretch;justify-content: center;background-color: white;position: relative;}#sk-container-id-2 div.sk-item::before, #sk-container-id-2 div.sk-parallel-item::before {content: \"\";position: absolute;border-left: 1px solid gray;box-sizing: border-box;top: 0;bottom: 0;left: 50%;z-index: -1;}#sk-container-id-2 div.sk-parallel-item {display: flex;flex-direction: column;z-index: 1;position: relative;background-color: white;}#sk-container-id-2 div.sk-parallel-item:first-child::after {align-self: flex-end;width: 50%;}#sk-container-id-2 div.sk-parallel-item:last-child::after {align-self: flex-start;width: 50%;}#sk-container-id-2 div.sk-parallel-item:only-child::after {width: 0;}#sk-container-id-2 div.sk-dashed-wrapped {border: 1px dashed gray;margin: 0 0.4em 0.5em 0.4em;box-sizing: border-box;padding-bottom: 0.4em;background-color: white;}#sk-container-id-2 div.sk-label label {font-family: monospace;font-weight: bold;display: inline-block;line-height: 1.2em;}#sk-container-id-2 div.sk-label-container {text-align: center;}#sk-container-id-2 div.sk-container {/* jupyter's `normalize.less` sets `[hidden] { display: none; }` but bootstrap.min.css set `[hidden] { display: none !important; }` so we also need the `!important` here to be able to override the default hidden behavior on the sphinx rendered scikit-learn.org. See: https://github.com/scikit-learn/scikit-learn/issues/21755 */display: inline-block !important;position: relative;}#sk-container-id-2 div.sk-text-repr-fallback {display: none;}</style><div id=\"sk-container-id-2\" class=\"sk-top-container\"><div class=\"sk-text-repr-fallback\"><pre>DecisionTreeClassifier()</pre><b>In a Jupyter environment, please rerun this cell to show the HTML representation or trust the notebook. <br />On GitHub, the HTML representation is unable to render, please try loading this page with nbviewer.org.</b></div><div class=\"sk-container\" hidden><div class=\"sk-item\"><div class=\"sk-estimator sk-toggleable\"><input class=\"sk-toggleable__control sk-hidden--visually\" id=\"sk-estimator-id-2\" type=\"checkbox\" checked><label for=\"sk-estimator-id-2\" class=\"sk-toggleable__label sk-toggleable__label-arrow\">DecisionTreeClassifier</label><div class=\"sk-toggleable__content\"><pre>DecisionTreeClassifier()</pre></div></div></div></div></div>"
      ],
      "text/plain": [
       "DecisionTreeClassifier()"
      ]
     },
     "execution_count": 69,
     "metadata": {},
     "output_type": "execute_result"
    }
   ],
   "source": [
    "dcl.fit(x_train,y_train)"
   ]
  },
  {
   "cell_type": "code",
   "execution_count": 70,
   "id": "f889b3b9-3d49-421b-b13d-335de0df243b",
   "metadata": {},
   "outputs": [],
   "source": [
    "predict_dcl=dcl.predict(x_test)"
   ]
  },
  {
   "cell_type": "code",
   "execution_count": 71,
   "id": "38cd3bbb-9890-4d81-a89a-df16acdc1d5b",
   "metadata": {},
   "outputs": [
    {
     "data": {
      "text/plain": [
       "array([0, 0, 0, 0, 0, 0, 0, 0, 0, 0, 0, 0, 0, 0, 0, 0, 0, 0, 0, 0, 0, 0,\n",
       "       0, 0, 0, 0, 0, 1, 0, 0, 0, 0, 0, 0, 0, 0, 0, 0, 1, 0, 1, 0, 0, 0,\n",
       "       0, 0, 1, 0, 0, 1, 0, 0, 0, 0, 0, 1, 0, 0, 0, 0, 0, 0, 0, 0, 0, 0,\n",
       "       0, 1, 0, 0, 0, 0, 0, 0, 0, 1, 0, 0, 0, 0, 0, 0, 1, 0, 0, 0, 0, 0,\n",
       "       0, 0, 0, 0, 0, 0, 0, 0, 0, 0, 1, 0, 0, 0, 0, 0, 0, 0, 0, 0, 0, 0,\n",
       "       0, 0, 0, 0, 0, 0, 0, 0, 0, 0, 0, 0, 0, 0, 1, 0, 0, 0, 0, 0, 0, 0,\n",
       "       0, 0, 1, 0, 0, 0, 0, 0, 0, 0, 0, 0, 0, 0, 0, 0, 0, 0, 0, 0, 0, 0,\n",
       "       0, 0, 0, 0, 0, 0, 0, 0, 0, 0, 0, 0, 0, 0, 0, 0, 0, 0, 0, 0, 0, 0,\n",
       "       0, 0, 0, 0, 0, 0, 0, 0, 0, 0, 0, 0, 0, 0, 0, 1, 0, 0, 0, 0, 0, 1,\n",
       "       0, 0, 0, 0, 0, 0, 0, 0, 0, 0, 0, 0, 0, 0, 1, 0, 1, 0, 0, 0, 0, 0,\n",
       "       0, 0, 0, 0, 0, 0, 0, 1, 0, 0, 0, 0, 0, 0, 0, 0, 0, 0, 0, 0, 0, 0,\n",
       "       0, 0, 1, 0, 1, 0, 0, 0, 0, 0, 0, 0, 0, 0, 0, 0, 0, 0, 0, 1, 0, 0,\n",
       "       0, 0, 0, 0, 0, 0, 0, 0, 0, 0, 0, 0, 0, 0, 1, 0, 0, 0, 0, 0, 0, 0,\n",
       "       0, 0, 0, 0, 0, 1, 0, 0, 0, 0, 0, 1, 0, 0, 0, 0, 0, 0, 0, 1, 0, 0,\n",
       "       0, 0, 0, 0, 0, 0, 0, 0, 0, 0, 0, 0, 0, 0, 0, 0, 0, 0, 0, 0, 0, 0,\n",
       "       0, 0, 0, 0, 0, 0, 0, 0, 0, 0, 0, 0, 0, 0, 0, 0, 0, 0, 0, 1, 0, 0,\n",
       "       0, 0, 0, 0, 0, 0, 0, 0, 0, 0, 0, 0, 0, 0, 0, 0, 0, 0, 0, 0, 0, 0,\n",
       "       0, 0, 0, 0, 0, 0, 0, 0, 0, 0, 0, 0, 0, 0, 0, 0, 0, 0, 0, 0, 0, 0,\n",
       "       0, 0, 0, 0, 0, 0, 0, 0, 0, 0, 0, 0, 0, 0, 0, 0, 0, 0, 0, 0, 0, 0,\n",
       "       0, 0, 0, 1, 0, 0, 0, 0, 1, 0, 0, 0, 1, 0, 0, 0, 0, 0, 0, 0, 0, 0,\n",
       "       0, 0, 0, 0, 0, 1, 0, 0, 0, 0, 0, 0, 0, 0, 0, 0, 0, 0, 0, 0, 0, 0,\n",
       "       0, 0, 0, 1, 0, 0, 0, 0, 0, 0, 0, 0, 0, 0, 0, 0, 0], dtype=int64)"
      ]
     },
     "execution_count": 71,
     "metadata": {},
     "output_type": "execute_result"
    }
   ],
   "source": [
    "predict_dcl"
   ]
  },
  {
   "cell_type": "code",
   "execution_count": 72,
   "id": "5401fc28-16f8-4af1-ac79-9ace5f5398a9",
   "metadata": {},
   "outputs": [
    {
     "data": {
      "text/plain": [
       "1004    0\n",
       "196     0\n",
       "2342    0\n",
       "1708    0\n",
       "435     0\n",
       "       ..\n",
       "986     0\n",
       "120     0\n",
       "283     0\n",
       "1740    0\n",
       "1726    0\n",
       "Name: Diagnosis, Length: 479, dtype: int64"
      ]
     },
     "execution_count": 72,
     "metadata": {},
     "output_type": "execute_result"
    }
   ],
   "source": [
    "y_test"
   ]
  },
  {
   "cell_type": "code",
   "execution_count": 73,
   "id": "c6bedbcd-5caa-4ff2-9692-44640f6e2413",
   "metadata": {},
   "outputs": [],
   "source": [
    "from sklearn.metrics import accuracy_score,confusion_matrix"
   ]
  },
  {
   "cell_type": "code",
   "execution_count": 74,
   "id": "01c9dbdc-a59b-4b93-ab71-285444f8339a",
   "metadata": {},
   "outputs": [
    {
     "data": {
      "text/plain": [
       "0.8977035490605428"
      ]
     },
     "execution_count": 74,
     "metadata": {},
     "output_type": "execute_result"
    }
   ],
   "source": [
    "accuracy=accuracy_score(y_test,predict_dcl)\n",
    "accuracy"
   ]
  },
  {
   "cell_type": "code",
   "execution_count": 75,
   "id": "adf1c27c-e87f-45fa-976c-fba75573b056",
   "metadata": {},
   "outputs": [
    {
     "data": {
      "text/plain": [
       "array([[428,  28],\n",
       "       [ 21,   2]], dtype=int64)"
      ]
     },
     "execution_count": 75,
     "metadata": {},
     "output_type": "execute_result"
    }
   ],
   "source": [
    "cm=confusion_matrix(y_test,predict_dcl)\n",
    "cm"
   ]
  },
  {
   "cell_type": "code",
   "execution_count": 76,
   "id": "2c00960d-40c9-4cd1-b1de-edd4865fae01",
   "metadata": {},
   "outputs": [
    {
     "data": {
      "image/png": "[encoded data removed]",
      "text/plain": [
       "<Figure size 800x400 with 2 Axes>"
      ]
     },
     "metadata": {},
     "output_type": "display_data"
    }
   ],
   "source": [
    "import seaborn as sns\n",
    "plt.figure(figsize=(8,4))\n",
    "plt.title('confusion matricx')\n",
    "sns.heatmap(cm,annot=True,fmt='d')\n",
    "plt.xlabel('True value')\n",
    "plt.ylabel('predicted value')\n",
    "plt.show()"
   ]
  },
  {
   "cell_type": "code",
   "execution_count": 77,
   "id": "826c4c78-766a-4ef5-8508-c77ece50a439",
   "metadata": {},
   "outputs": [
    {
     "data": {
      "text/plain": [
       "1.0"
      ]
     },
     "execution_count": 77,
     "metadata": {},
     "output_type": "execute_result"
    }
   ],
   "source": [
    "train_score=dcl.score(x_train,y_train)\n",
    "train_score"
   ]
  },
  {
   "cell_type": "code",
   "execution_count": 78,
   "id": "ae6d7443-7b71-42f4-96c5-58fa27fc680e",
   "metadata": {},
   "outputs": [
    {
     "data": {
      "text/plain": [
       "0.8977035490605428"
      ]
     },
     "execution_count": 78,
     "metadata": {},
     "output_type": "execute_result"
    }
   ],
   "source": [
    "train_score=dcl.score(x_test,y_test)\n",
    "train_score"
   ]
  },
  {
   "cell_type": "code",
   "execution_count": 79,
   "id": "1a9022bc-6499-460f-9c8d-27af0455365b",
   "metadata": {},
   "outputs": [],
   "source": [
    "from sklearn.ensemble import RandomForestClassifier\n",
    "rn=RandomForestClassifier()"
   ]
  },
  {
   "cell_type": "code",
   "execution_count": 80,
   "id": "fdbf6f8b-12d4-42d0-9d89-ed9119c16dab",
   "metadata": {},
   "outputs": [
    {
     "data": {
      "text/html": [
       "<style>#sk-container-id-3 {color: black;}#sk-container-id-3 pre{padding: 0;}#sk-container-id-3 div.sk-toggleable {background-color: white;}#sk-container-id-3 label.sk-toggleable__label {cursor: pointer;display: block;width: 100%;margin-bottom: 0;padding: 0.3em;box-sizing: border-box;text-align: center;}#sk-container-id-3 label.sk-toggleable__label-arrow:before {content: \"▸\";float: left;margin-right: 0.25em;color: #696969;}#sk-container-id-3 label.sk-toggleable__label-arrow:hover:before {color: black;}#sk-container-id-3 div.sk-estimator:hover label.sk-toggleable__label-arrow:before {color: black;}#sk-container-id-3 div.sk-toggleable__content {max-height: 0;max-width: 0;overflow: hidden;text-align: left;background-color: #f0f8ff;}#sk-container-id-3 div.sk-toggleable__content pre {margin: 0.2em;color: black;border-radius: 0.25em;background-color: #f0f8ff;}#sk-container-id-3 input.sk-toggleable__control:checked~div.sk-toggleable__content {max-height: 200px;max-width: 100%;overflow: auto;}#sk-container-id-3 input.sk-toggleable__control:checked~label.sk-toggleable__label-arrow:before {content: \"▾\";}#sk-container-id-3 div.sk-estimator input.sk-toggleable__control:checked~label.sk-toggleable__label {background-color: #d4ebff;}#sk-container-id-3 div.sk-label input.sk-toggleable__control:checked~label.sk-toggleable__label {background-color: #d4ebff;}#sk-container-id-3 input.sk-hidden--visually {border: 0;clip: rect(1px 1px 1px 1px);clip: rect(1px, 1px, 1px, 1px);height: 1px;margin: -1px;overflow: hidden;padding: 0;position: absolute;width: 1px;}#sk-container-id-3 div.sk-estimator {font-family: monospace;background-color: #f0f8ff;border: 1px dotted black;border-radius: 0.25em;box-sizing: border-box;margin-bottom: 0.5em;}#sk-container-id-3 div.sk-estimator:hover {background-color: #d4ebff;}#sk-container-id-3 div.sk-parallel-item::after {content: \"\";width: 100%;border-bottom: 1px solid gray;flex-grow: 1;}#sk-container-id-3 div.sk-label:hover label.sk-toggleable__label {background-color: #d4ebff;}#sk-container-id-3 div.sk-serial::before {content: \"\";position: absolute;border-left: 1px solid gray;box-sizing: border-box;top: 0;bottom: 0;left: 50%;z-index: 0;}#sk-container-id-3 div.sk-serial {display: flex;flex-direction: column;align-items: center;background-color: white;padding-right: 0.2em;padding-left: 0.2em;position: relative;}#sk-container-id-3 div.sk-item {position: relative;z-index: 1;}#sk-container-id-3 div.sk-parallel {display: flex;align-items: stretch;justify-content: center;background-color: white;position: relative;}#sk-container-id-3 div.sk-item::before, #sk-container-id-3 div.sk-parallel-item::before {content: \"\";position: absolute;border-left: 1px solid gray;box-sizing: border-box;top: 0;bottom: 0;left: 50%;z-index: -1;}#sk-container-id-3 div.sk-parallel-item {display: flex;flex-direction: column;z-index: 1;position: relative;background-color: white;}#sk-container-id-3 div.sk-parallel-item:first-child::after {align-self: flex-end;width: 50%;}#sk-container-id-3 div.sk-parallel-item:last-child::after {align-self: flex-start;width: 50%;}#sk-container-id-3 div.sk-parallel-item:only-child::after {width: 0;}#sk-container-id-3 div.sk-dashed-wrapped {border: 1px dashed gray;margin: 0 0.4em 0.5em 0.4em;box-sizing: border-box;padding-bottom: 0.4em;background-color: white;}#sk-container-id-3 div.sk-label label {font-family: monospace;font-weight: bold;display: inline-block;line-height: 1.2em;}#sk-container-id-3 div.sk-label-container {text-align: center;}#sk-container-id-3 div.sk-container {/* jupyter's `normalize.less` sets `[hidden] { display: none; }` but bootstrap.min.css set `[hidden] { display: none !important; }` so we also need the `!important` here to be able to override the default hidden behavior on the sphinx rendered scikit-learn.org. See: https://github.com/scikit-learn/scikit-learn/issues/21755 */display: inline-block !important;position: relative;}#sk-container-id-3 div.sk-text-repr-fallback {display: none;}</style><div id=\"sk-container-id-3\" class=\"sk-top-container\"><div class=\"sk-text-repr-fallback\"><pre>RandomForestClassifier()</pre><b>In a Jupyter environment, please rerun this cell to show the HTML representation or trust the notebook. <br />On GitHub, the HTML representation is unable to render, please try loading this page with nbviewer.org.</b></div><div class=\"sk-container\" hidden><div class=\"sk-item\"><div class=\"sk-estimator sk-toggleable\"><input class=\"sk-toggleable__control sk-hidden--visually\" id=\"sk-estimator-id-3\" type=\"checkbox\" checked><label for=\"sk-estimator-id-3\" class=\"sk-toggleable__label sk-toggleable__label-arrow\">RandomForestClassifier</label><div class=\"sk-toggleable__content\"><pre>RandomForestClassifier()</pre></div></div></div></div></div>"
      ],
      "text/plain": [
       "RandomForestClassifier()"
      ]
     },
     "execution_count": 80,
     "metadata": {},
     "output_type": "execute_result"
    }
   ],
   "source": [
    "rn.fit(x_train,y_train)"
   ]
  },
  {
   "cell_type": "code",
   "execution_count": 81,
   "id": "bf984e9e-7ce5-4306-a8c2-9573e26a45fa",
   "metadata": {},
   "outputs": [],
   "source": [
    "predict_rn=rn.predict(x_test)"
   ]
  },
  {
   "cell_type": "code",
   "execution_count": 82,
   "id": "1a0e5b19-27d0-46ab-b7d8-267fcd09eb1b",
   "metadata": {},
   "outputs": [
    {
     "data": {
      "text/plain": [
       "array([0, 0, 0, 0, 0, 0, 0, 0, 0, 0, 0, 0, 0, 0, 0, 0, 0, 0, 0, 0, 0, 0,\n",
       "       0, 0, 0, 0, 0, 0, 0, 0, 0, 0, 0, 0, 0, 0, 0, 0, 0, 0, 0, 0, 0, 0,\n",
       "       0, 0, 0, 0, 0, 0, 0, 0, 0, 0, 0, 0, 0, 0, 0, 0, 0, 0, 0, 0, 0, 0,\n",
       "       0, 0, 0, 0, 0, 0, 0, 0, 0, 0, 0, 0, 0, 0, 0, 0, 0, 0, 0, 0, 0, 0,\n",
       "       0, 0, 0, 0, 0, 0, 0, 0, 0, 0, 0, 0, 0, 0, 0, 0, 0, 0, 0, 0, 0, 0,\n",
       "       0, 0, 0, 0, 0, 0, 0, 0, 0, 0, 0, 0, 0, 0, 0, 0, 0, 0, 0, 0, 0, 0,\n",
       "       0, 0, 0, 0, 0, 0, 0, 0, 0, 0, 0, 0, 0, 0, 0, 0, 0, 0, 0, 0, 0, 0,\n",
       "       0, 0, 0, 0, 0, 0, 0, 0, 0, 0, 0, 0, 0, 0, 0, 0, 0, 0, 0, 0, 0, 0,\n",
       "       0, 0, 0, 0, 0, 0, 0, 0, 0, 0, 0, 0, 0, 0, 0, 0, 0, 0, 0, 0, 0, 0,\n",
       "       0, 0, 0, 0, 0, 0, 0, 0, 0, 0, 0, 0, 0, 0, 0, 0, 0, 0, 0, 0, 0, 0,\n",
       "       0, 0, 0, 0, 0, 0, 0, 0, 0, 0, 0, 0, 0, 0, 0, 0, 0, 0, 0, 0, 0, 0,\n",
       "       0, 0, 0, 0, 0, 0, 0, 0, 0, 0, 0, 0, 0, 0, 0, 0, 0, 0, 0, 0, 0, 0,\n",
       "       0, 0, 0, 0, 0, 0, 0, 0, 0, 0, 0, 0, 0, 0, 0, 0, 0, 0, 0, 0, 0, 0,\n",
       "       0, 0, 0, 0, 0, 0, 0, 0, 0, 0, 0, 0, 0, 0, 0, 0, 0, 0, 0, 0, 0, 0,\n",
       "       0, 0, 0, 0, 0, 0, 0, 0, 0, 0, 0, 0, 0, 0, 0, 0, 0, 0, 0, 0, 0, 0,\n",
       "       0, 0, 0, 0, 0, 0, 0, 0, 0, 0, 0, 0, 0, 0, 0, 0, 0, 0, 0, 0, 0, 0,\n",
       "       0, 0, 0, 0, 0, 0, 0, 0, 0, 0, 0, 0, 0, 0, 0, 0, 0, 0, 0, 0, 0, 0,\n",
       "       0, 0, 0, 0, 0, 0, 0, 0, 0, 0, 0, 0, 0, 0, 0, 0, 0, 0, 0, 0, 0, 0,\n",
       "       0, 0, 0, 0, 0, 0, 0, 0, 0, 0, 0, 0, 0, 0, 0, 0, 0, 0, 0, 0, 0, 0,\n",
       "       0, 0, 0, 0, 0, 0, 0, 0, 0, 0, 0, 0, 0, 0, 0, 0, 0, 0, 0, 0, 0, 0,\n",
       "       0, 0, 0, 0, 0, 0, 0, 0, 0, 0, 0, 0, 0, 0, 0, 0, 0, 0, 0, 0, 0, 0,\n",
       "       0, 0, 0, 0, 0, 0, 0, 0, 0, 0, 0, 0, 0, 0, 0, 0, 0], dtype=int64)"
      ]
     },
     "execution_count": 82,
     "metadata": {},
     "output_type": "execute_result"
    }
   ],
   "source": [
    "predict_rn"
   ]
  },
  {
   "cell_type": "code",
   "execution_count": 83,
   "id": "28bbd2d2-4590-4424-bcb2-c61d03ad197f",
   "metadata": {},
   "outputs": [
    {
     "data": {
      "text/plain": [
       "1004    0\n",
       "196     0\n",
       "2342    0\n",
       "1708    0\n",
       "435     0\n",
       "       ..\n",
       "986     0\n",
       "120     0\n",
       "283     0\n",
       "1740    0\n",
       "1726    0\n",
       "Name: Diagnosis, Length: 479, dtype: int64"
      ]
     },
     "execution_count": 83,
     "metadata": {},
     "output_type": "execute_result"
    }
   ],
   "source": [
    "y_test"
   ]
  },
  {
   "cell_type": "code",
   "execution_count": 84,
   "id": "45151c6d-8768-4ed2-9510-36031d0a11bd",
   "metadata": {},
   "outputs": [
    {
     "data": {
      "text/plain": [
       "0.9519832985386222"
      ]
     },
     "execution_count": 84,
     "metadata": {},
     "output_type": "execute_result"
    }
   ],
   "source": [
    "accuracy=accuracy_score(y_test,predict_rn)\n",
    "accuracy"
   ]
  },
  {
   "cell_type": "code",
   "execution_count": 85,
   "id": "1c0c6089-3f66-4166-a85f-bb3be614bcd6",
   "metadata": {},
   "outputs": [
    {
     "data": {
      "text/plain": [
       "array([[456,   0],\n",
       "       [ 23,   0]], dtype=int64)"
      ]
     },
     "execution_count": 85,
     "metadata": {},
     "output_type": "execute_result"
    }
   ],
   "source": [
    "cm=confusion_matrix(y_test,predict_rn)\n",
    "cm"
   ]
  },
  {
   "cell_type": "code",
   "execution_count": 86,
   "id": "869d8e80-836a-47c3-b960-5e3f7eb296c8",
   "metadata": {},
   "outputs": [
    {
     "data": {
      "image/png": "[encoded data removed]",
      "text/plain": [
       "<Figure size 800x400 with 2 Axes>"
      ]
     },
     "metadata": {},
     "output_type": "display_data"
    }
   ],
   "source": [
    "import seaborn as sns\n",
    "plt.figure(figsize=(8,4))\n",
    "plt.title('confusion matricx')\n",
    "sns.heatmap(cm,annot=True,fmt='d')\n",
    "plt.xlabel('True value')\n",
    "plt.ylabel('predicted value')\n",
    "plt.show()"
   ]
  },
  {
   "cell_type": "code",
   "execution_count": 87,
   "id": "8c1c5d26-0405-4654-b653-638a9f4ee7b3",
   "metadata": {},
   "outputs": [
    {
     "data": {
      "text/plain": [
       "1.0"
      ]
     },
     "execution_count": 87,
     "metadata": {},
     "output_type": "execute_result"
    }
   ],
   "source": [
    "train_score=rn.score(x_train,y_train)\n",
    "train_score"
   ]
  },
  {
   "cell_type": "code",
   "execution_count": 88,
   "id": "32b50f06-ab2d-4766-9707-876ea36ed8a6",
   "metadata": {},
   "outputs": [
    {
     "data": {
      "text/plain": [
       "0.9519832985386222"
      ]
     },
     "execution_count": 88,
     "metadata": {},
     "output_type": "execute_result"
    }
   ],
   "source": [
    "train_score=rn.score(x_test,y_test)\n",
    "train_score"
   ]
  },
  {
   "cell_type": "markdown",
   "id": "481379c8-50a0-4755-ae39-deadc6659e9c",
   "metadata": {},
   "source": [
    "# Support Vector"
   ]
  },
  {
   "cell_type": "code",
   "execution_count": 89,
   "id": "3e5043b4-7f75-4de2-ac51-77711b2f7b20",
   "metadata": {},
   "outputs": [],
   "source": [
    "from sklearn.svm import SVC"
   ]
  },
  {
   "cell_type": "code",
   "execution_count": 90,
   "id": "c2cb57a6-4c8a-47b8-86f5-d1fb65edf6d4",
   "metadata": {},
   "outputs": [],
   "source": [
    "sc=SVC()"
   ]
  },
  {
   "cell_type": "code",
   "execution_count": 91,
   "id": "5fdde621-6c0a-4e91-b7a7-c91f0e32d9a9",
   "metadata": {},
   "outputs": [
    {
     "data": {
      "text/html": [
       "<style>#sk-container-id-4 {color: black;}#sk-container-id-4 pre{padding: 0;}#sk-container-id-4 div.sk-toggleable {background-color: white;}#sk-container-id-4 label.sk-toggleable__label {cursor: pointer;display: block;width: 100%;margin-bottom: 0;padding: 0.3em;box-sizing: border-box;text-align: center;}#sk-container-id-4 label.sk-toggleable__label-arrow:before {content: \"▸\";float: left;margin-right: 0.25em;color: #696969;}#sk-container-id-4 label.sk-toggleable__label-arrow:hover:before {color: black;}#sk-container-id-4 div.sk-estimator:hover label.sk-toggleable__label-arrow:before {color: black;}#sk-container-id-4 div.sk-toggleable__content {max-height: 0;max-width: 0;overflow: hidden;text-align: left;background-color: #f0f8ff;}#sk-container-id-4 div.sk-toggleable__content pre {margin: 0.2em;color: black;border-radius: 0.25em;background-color: #f0f8ff;}#sk-container-id-4 input.sk-toggleable__control:checked~div.sk-toggleable__content {max-height: 200px;max-width: 100%;overflow: auto;}#sk-container-id-4 input.sk-toggleable__control:checked~label.sk-toggleable__label-arrow:before {content: \"▾\";}#sk-container-id-4 div.sk-estimator input.sk-toggleable__control:checked~label.sk-toggleable__label {background-color: #d4ebff;}#sk-container-id-4 div.sk-label input.sk-toggleable__control:checked~label.sk-toggleable__label {background-color: #d4ebff;}#sk-container-id-4 input.sk-hidden--visually {border: 0;clip: rect(1px 1px 1px 1px);clip: rect(1px, 1px, 1px, 1px);height: 1px;margin: -1px;overflow: hidden;padding: 0;position: absolute;width: 1px;}#sk-container-id-4 div.sk-estimator {font-family: monospace;background-color: #f0f8ff;border: 1px dotted black;border-radius: 0.25em;box-sizing: border-box;margin-bottom: 0.5em;}#sk-container-id-4 div.sk-estimator:hover {background-color: #d4ebff;}#sk-container-id-4 div.sk-parallel-item::after {content: \"\";width: 100%;border-bottom: 1px solid gray;flex-grow: 1;}#sk-container-id-4 div.sk-label:hover label.sk-toggleable__label {background-color: #d4ebff;}#sk-container-id-4 div.sk-serial::before {content: \"\";position: absolute;border-left: 1px solid gray;box-sizing: border-box;top: 0;bottom: 0;left: 50%;z-index: 0;}#sk-container-id-4 div.sk-serial {display: flex;flex-direction: column;align-items: center;background-color: white;padding-right: 0.2em;padding-left: 0.2em;position: relative;}#sk-container-id-4 div.sk-item {position: relative;z-index: 1;}#sk-container-id-4 div.sk-parallel {display: flex;align-items: stretch;justify-content: center;background-color: white;position: relative;}#sk-container-id-4 div.sk-item::before, #sk-container-id-4 div.sk-parallel-item::before {content: \"\";position: absolute;border-left: 1px solid gray;box-sizing: border-box;top: 0;bottom: 0;left: 50%;z-index: -1;}#sk-container-id-4 div.sk-parallel-item {display: flex;flex-direction: column;z-index: 1;position: relative;background-color: white;}#sk-container-id-4 div.sk-parallel-item:first-child::after {align-self: flex-end;width: 50%;}#sk-container-id-4 div.sk-parallel-item:last-child::after {align-self: flex-start;width: 50%;}#sk-container-id-4 div.sk-parallel-item:only-child::after {width: 0;}#sk-container-id-4 div.sk-dashed-wrapped {border: 1px dashed gray;margin: 0 0.4em 0.5em 0.4em;box-sizing: border-box;padding-bottom: 0.4em;background-color: white;}#sk-container-id-4 div.sk-label label {font-family: monospace;font-weight: bold;display: inline-block;line-height: 1.2em;}#sk-container-id-4 div.sk-label-container {text-align: center;}#sk-container-id-4 div.sk-container {/* jupyter's `normalize.less` sets `[hidden] { display: none; }` but bootstrap.min.css set `[hidden] { display: none !important; }` so we also need the `!important` here to be able to override the default hidden behavior on the sphinx rendered scikit-learn.org. See: https://github.com/scikit-learn/scikit-learn/issues/21755 */display: inline-block !important;position: relative;}#sk-container-id-4 div.sk-text-repr-fallback {display: none;}</style><div id=\"sk-container-id-4\" class=\"sk-top-container\"><div class=\"sk-text-repr-fallback\"><pre>SVC()</pre><b>In a Jupyter environment, please rerun this cell to show the HTML representation or trust the notebook. <br />On GitHub, the HTML representation is unable to render, please try loading this page with nbviewer.org.</b></div><div class=\"sk-container\" hidden><div class=\"sk-item\"><div class=\"sk-estimator sk-toggleable\"><input class=\"sk-toggleable__control sk-hidden--visually\" id=\"sk-estimator-id-4\" type=\"checkbox\" checked><label for=\"sk-estimator-id-4\" class=\"sk-toggleable__label sk-toggleable__label-arrow\">SVC</label><div class=\"sk-toggleable__content\"><pre>SVC()</pre></div></div></div></div></div>"
      ],
      "text/plain": [
       "SVC()"
      ]
     },
     "execution_count": 91,
     "metadata": {},
     "output_type": "execute_result"
    }
   ],
   "source": [
    "sc.fit(x_train,y_train)"
   ]
  },
  {
   "cell_type": "code",
   "execution_count": 92,
   "id": "d3d89645-8779-4cdd-885b-6dbeddb18778",
   "metadata": {},
   "outputs": [],
   "source": [
    "predict_sc=sc.predict(x_test)"
   ]
  },
  {
   "cell_type": "code",
   "execution_count": 93,
   "id": "9aac6baf-d290-45c8-99a4-bca336f0982a",
   "metadata": {},
   "outputs": [
    {
     "data": {
      "text/plain": [
       "array([0, 0, 0, 0, 0, 0, 0, 0, 0, 0, 0, 0, 0, 0, 0, 0, 0, 0, 0, 0, 0, 0,\n",
       "       0, 0, 0, 0, 0, 0, 0, 0, 0, 0, 0, 0, 0, 0, 0, 0, 0, 0, 0, 0, 0, 0,\n",
       "       0, 0, 0, 0, 0, 0, 0, 0, 0, 0, 0, 0, 0, 0, 0, 0, 0, 0, 0, 0, 0, 0,\n",
       "       0, 0, 0, 0, 0, 0, 0, 0, 0, 0, 0, 0, 0, 0, 0, 0, 0, 0, 0, 0, 0, 0,\n",
       "       0, 0, 0, 0, 0, 0, 0, 0, 0, 0, 0, 0, 0, 0, 0, 0, 0, 0, 0, 0, 0, 0,\n",
       "       0, 0, 0, 0, 0, 0, 0, 0, 0, 0, 0, 0, 0, 0, 0, 0, 0, 0, 0, 0, 0, 0,\n",
       "       0, 0, 0, 0, 0, 0, 0, 0, 0, 0, 0, 0, 0, 0, 0, 0, 0, 0, 0, 0, 0, 0,\n",
       "       0, 0, 0, 0, 0, 0, 0, 0, 0, 0, 0, 0, 0, 0, 0, 0, 0, 0, 0, 0, 0, 0,\n",
       "       0, 0, 0, 0, 0, 0, 0, 0, 0, 0, 0, 0, 0, 0, 0, 0, 0, 0, 0, 0, 0, 0,\n",
       "       0, 0, 0, 0, 0, 0, 0, 0, 0, 0, 0, 0, 0, 0, 0, 0, 0, 0, 0, 0, 0, 0,\n",
       "       0, 0, 0, 0, 0, 0, 0, 0, 0, 0, 0, 0, 0, 0, 0, 0, 0, 0, 0, 0, 0, 0,\n",
       "       0, 0, 0, 0, 0, 0, 0, 0, 0, 0, 0, 0, 0, 0, 0, 0, 0, 0, 0, 0, 0, 0,\n",
       "       0, 0, 0, 0, 0, 0, 0, 0, 0, 0, 0, 0, 0, 0, 0, 0, 0, 0, 0, 0, 0, 0,\n",
       "       0, 0, 0, 0, 0, 0, 0, 0, 0, 0, 0, 0, 0, 0, 0, 0, 0, 0, 0, 0, 0, 0,\n",
       "       0, 0, 0, 0, 0, 0, 0, 0, 0, 0, 0, 0, 0, 0, 0, 0, 0, 0, 0, 0, 0, 0,\n",
       "       0, 0, 0, 0, 0, 0, 0, 0, 0, 0, 0, 0, 0, 0, 0, 0, 0, 0, 0, 0, 0, 0,\n",
       "       0, 0, 0, 0, 0, 0, 0, 0, 0, 0, 0, 0, 0, 0, 0, 0, 0, 0, 0, 0, 0, 0,\n",
       "       0, 0, 0, 0, 0, 0, 0, 0, 0, 0, 0, 0, 0, 0, 0, 0, 0, 0, 0, 0, 0, 0,\n",
       "       0, 0, 0, 0, 0, 0, 0, 0, 0, 0, 0, 0, 0, 0, 0, 0, 0, 0, 0, 0, 0, 0,\n",
       "       0, 0, 0, 0, 0, 0, 0, 0, 0, 0, 0, 0, 0, 0, 0, 0, 0, 0, 0, 0, 0, 0,\n",
       "       0, 0, 0, 0, 0, 0, 0, 0, 0, 0, 0, 0, 0, 0, 0, 0, 0, 0, 0, 0, 0, 0,\n",
       "       0, 0, 0, 0, 0, 0, 0, 0, 0, 0, 0, 0, 0, 0, 0, 0, 0], dtype=int64)"
      ]
     },
     "execution_count": 93,
     "metadata": {},
     "output_type": "execute_result"
    }
   ],
   "source": [
    "predict_sc"
   ]
  },
  {
   "cell_type": "code",
   "execution_count": 94,
   "id": "ca23c2c5-fd10-4176-9a2b-5bc5dc7166ff",
   "metadata": {},
   "outputs": [
    {
     "data": {
      "text/plain": [
       "1004    0\n",
       "196     0\n",
       "2342    0\n",
       "1708    0\n",
       "435     0\n",
       "       ..\n",
       "986     0\n",
       "120     0\n",
       "283     0\n",
       "1740    0\n",
       "1726    0\n",
       "Name: Diagnosis, Length: 479, dtype: int64"
      ]
     },
     "execution_count": 94,
     "metadata": {},
     "output_type": "execute_result"
    }
   ],
   "source": [
    "y_test"
   ]
  },
  {
   "cell_type": "code",
   "execution_count": 95,
   "id": "5de497d3-ae0c-4eae-9793-6867523048ca",
   "metadata": {},
   "outputs": [
    {
     "data": {
      "text/plain": [
       "0.9519832985386222"
      ]
     },
     "execution_count": 95,
     "metadata": {},
     "output_type": "execute_result"
    }
   ],
   "source": [
    "accuracy=accuracy_score(y_test,predict_sc)\n",
    "accuracy"
   ]
  },
  {
   "cell_type": "code",
   "execution_count": 96,
   "id": "64332f96-6457-4502-a6ee-c5794409d064",
   "metadata": {},
   "outputs": [
    {
     "data": {
      "text/plain": [
       "array([[456,   0],\n",
       "       [ 23,   0]], dtype=int64)"
      ]
     },
     "execution_count": 96,
     "metadata": {},
     "output_type": "execute_result"
    }
   ],
   "source": [
    "cm=confusion_matrix(y_test,predict_sc)\n",
    "cm"
   ]
  },
  {
   "cell_type": "code",
   "execution_count": 97,
   "id": "2acea88a-88ac-4981-b497-a09bf025a69e",
   "metadata": {},
   "outputs": [
    {
     "data": {
      "image/png": "[encoded data removed]",
      "text/plain": [
       "<Figure size 800x400 with 2 Axes>"
      ]
     },
     "metadata": {},
     "output_type": "display_data"
    }
   ],
   "source": [
    "import seaborn as sns\n",
    "plt.figure(figsize=(8,4))\n",
    "plt.title('confusion matricx')\n",
    "sns.heatmap(cm,annot=True,fmt='d')\n",
    "plt.xlabel('True value')\n",
    "plt.ylabel('predicted value')\n",
    "plt.show()"
   ]
  },
  {
   "cell_type": "code",
   "execution_count": 98,
   "id": "94aa2f2d-e46a-4f45-971d-7ad219b0eb66",
   "metadata": {},
   "outputs": [
    {
     "data": {
      "text/plain": [
       "0.9472033455305803"
      ]
     },
     "execution_count": 98,
     "metadata": {},
     "output_type": "execute_result"
    }
   ],
   "source": [
    "train_score=sc.score(x_train,y_train)\n",
    "train_score"
   ]
  },
  {
   "cell_type": "code",
   "execution_count": 99,
   "id": "173f4866-e94f-4026-a36f-ee45f71665e0",
   "metadata": {},
   "outputs": [
    {
     "data": {
      "text/plain": [
       "0.9519832985386222"
      ]
     },
     "execution_count": 99,
     "metadata": {},
     "output_type": "execute_result"
    }
   ],
   "source": [
    "train_score=sc.score(x_test,y_test)\n",
    "train_score"
   ]
  },
  {
   "cell_type": "code",
   "execution_count": 100,
   "id": "2e4da126-211f-4dcd-9ba0-9ca16d39fc1b",
   "metadata": {},
   "outputs": [
    {
     "data": {
      "text/html": [
       "<div>\n",
       "<style scoped>\n",
       "    .dataframe tbody tr th:only-of-type {\n",
       "        vertical-align: middle;\n",
       "    }\n",
       "\n",
       "    .dataframe tbody tr th {\n",
       "        vertical-align: top;\n",
       "    }\n",
       "\n",
       "    .dataframe thead th {\n",
       "        text-align: right;\n",
       "    }\n",
       "</style>\n",
       "<table border=\"1\" class=\"dataframe\">\n",
       "  <thead>\n",
       "    <tr style=\"text-align: right;\">\n",
       "      <th></th>\n",
       "      <th>Age</th>\n",
       "      <th>Gender</th>\n",
       "      <th>BMI</th>\n",
       "      <th>Smoking</th>\n",
       "      <th>PhysicalActivity</th>\n",
       "      <th>DietQuality</th>\n",
       "      <th>SleepQuality</th>\n",
       "      <th>FamilyHistoryAsthma</th>\n",
       "      <th>LungFunctionFEV1</th>\n",
       "      <th>LungFunctionFVC</th>\n",
       "      <th>Wheezing</th>\n",
       "      <th>ShortnessOfBreath</th>\n",
       "      <th>Diagnosis</th>\n",
       "    </tr>\n",
       "  </thead>\n",
       "  <tbody>\n",
       "    <tr>\n",
       "      <th>0</th>\n",
       "      <td>63</td>\n",
       "      <td>0</td>\n",
       "      <td>15.848744</td>\n",
       "      <td>0</td>\n",
       "      <td>0.894448</td>\n",
       "      <td>5.488696</td>\n",
       "      <td>8.701003</td>\n",
       "      <td>1</td>\n",
       "      <td>1.369051</td>\n",
       "      <td>4.941206</td>\n",
       "      <td>0</td>\n",
       "      <td>0</td>\n",
       "      <td>0</td>\n",
       "    </tr>\n",
       "    <tr>\n",
       "      <th>1</th>\n",
       "      <td>26</td>\n",
       "      <td>1</td>\n",
       "      <td>22.757042</td>\n",
       "      <td>0</td>\n",
       "      <td>5.897329</td>\n",
       "      <td>6.341014</td>\n",
       "      <td>5.153966</td>\n",
       "      <td>0</td>\n",
       "      <td>2.197767</td>\n",
       "      <td>1.702393</td>\n",
       "      <td>1</td>\n",
       "      <td>0</td>\n",
       "      <td>0</td>\n",
       "    </tr>\n",
       "    <tr>\n",
       "      <th>2</th>\n",
       "      <td>57</td>\n",
       "      <td>0</td>\n",
       "      <td>18.395396</td>\n",
       "      <td>0</td>\n",
       "      <td>6.739367</td>\n",
       "      <td>9.196237</td>\n",
       "      <td>6.840647</td>\n",
       "      <td>1</td>\n",
       "      <td>1.698011</td>\n",
       "      <td>5.022553</td>\n",
       "      <td>1</td>\n",
       "      <td>1</td>\n",
       "      <td>0</td>\n",
       "    </tr>\n",
       "    <tr>\n",
       "      <th>3</th>\n",
       "      <td>40</td>\n",
       "      <td>1</td>\n",
       "      <td>38.515278</td>\n",
       "      <td>0</td>\n",
       "      <td>1.404503</td>\n",
       "      <td>5.826532</td>\n",
       "      <td>4.253036</td>\n",
       "      <td>0</td>\n",
       "      <td>3.032037</td>\n",
       "      <td>2.300159</td>\n",
       "      <td>1</td>\n",
       "      <td>0</td>\n",
       "      <td>0</td>\n",
       "    </tr>\n",
       "    <tr>\n",
       "      <th>4</th>\n",
       "      <td>61</td>\n",
       "      <td>0</td>\n",
       "      <td>19.283802</td>\n",
       "      <td>0</td>\n",
       "      <td>4.604493</td>\n",
       "      <td>3.127048</td>\n",
       "      <td>9.625799</td>\n",
       "      <td>0</td>\n",
       "      <td>3.470589</td>\n",
       "      <td>3.067944</td>\n",
       "      <td>1</td>\n",
       "      <td>1</td>\n",
       "      <td>0</td>\n",
       "    </tr>\n",
       "    <tr>\n",
       "      <th>...</th>\n",
       "      <td>...</td>\n",
       "      <td>...</td>\n",
       "      <td>...</td>\n",
       "      <td>...</td>\n",
       "      <td>...</td>\n",
       "      <td>...</td>\n",
       "      <td>...</td>\n",
       "      <td>...</td>\n",
       "      <td>...</td>\n",
       "      <td>...</td>\n",
       "      <td>...</td>\n",
       "      <td>...</td>\n",
       "      <td>...</td>\n",
       "    </tr>\n",
       "    <tr>\n",
       "      <th>2387</th>\n",
       "      <td>43</td>\n",
       "      <td>1</td>\n",
       "      <td>29.059613</td>\n",
       "      <td>0</td>\n",
       "      <td>3.019854</td>\n",
       "      <td>6.119637</td>\n",
       "      <td>8.300960</td>\n",
       "      <td>0</td>\n",
       "      <td>3.125249</td>\n",
       "      <td>5.166032</td>\n",
       "      <td>0</td>\n",
       "      <td>1</td>\n",
       "      <td>1</td>\n",
       "    </tr>\n",
       "    <tr>\n",
       "      <th>2388</th>\n",
       "      <td>18</td>\n",
       "      <td>1</td>\n",
       "      <td>20.740850</td>\n",
       "      <td>0</td>\n",
       "      <td>5.805180</td>\n",
       "      <td>4.386992</td>\n",
       "      <td>7.731192</td>\n",
       "      <td>0</td>\n",
       "      <td>1.132977</td>\n",
       "      <td>5.509502</td>\n",
       "      <td>0</td>\n",
       "      <td>0</td>\n",
       "      <td>1</td>\n",
       "    </tr>\n",
       "    <tr>\n",
       "      <th>2389</th>\n",
       "      <td>54</td>\n",
       "      <td>0</td>\n",
       "      <td>37.079560</td>\n",
       "      <td>0</td>\n",
       "      <td>4.735169</td>\n",
       "      <td>8.214064</td>\n",
       "      <td>7.483521</td>\n",
       "      <td>0</td>\n",
       "      <td>1.685962</td>\n",
       "      <td>3.346877</td>\n",
       "      <td>1</td>\n",
       "      <td>0</td>\n",
       "      <td>1</td>\n",
       "    </tr>\n",
       "    <tr>\n",
       "      <th>2390</th>\n",
       "      <td>46</td>\n",
       "      <td>1</td>\n",
       "      <td>23.444712</td>\n",
       "      <td>0</td>\n",
       "      <td>9.672637</td>\n",
       "      <td>7.362861</td>\n",
       "      <td>6.717272</td>\n",
       "      <td>1</td>\n",
       "      <td>3.481549</td>\n",
       "      <td>1.713274</td>\n",
       "      <td>0</td>\n",
       "      <td>1</td>\n",
       "      <td>0</td>\n",
       "    </tr>\n",
       "    <tr>\n",
       "      <th>2391</th>\n",
       "      <td>26</td>\n",
       "      <td>1</td>\n",
       "      <td>28.123021</td>\n",
       "      <td>1</td>\n",
       "      <td>1.613138</td>\n",
       "      <td>7.412878</td>\n",
       "      <td>8.512253</td>\n",
       "      <td>1</td>\n",
       "      <td>2.280613</td>\n",
       "      <td>2.453284</td>\n",
       "      <td>1</td>\n",
       "      <td>1</td>\n",
       "      <td>0</td>\n",
       "    </tr>\n",
       "  </tbody>\n",
       "</table>\n",
       "<p>2392 rows × 13 columns</p>\n",
       "</div>"
      ],
      "text/plain": [
       "      Age  Gender        BMI  Smoking  PhysicalActivity  DietQuality  \\\n",
       "0      63       0  15.848744        0          0.894448     5.488696   \n",
       "1      26       1  22.757042        0          5.897329     6.341014   \n",
       "2      57       0  18.395396        0          6.739367     9.196237   \n",
       "3      40       1  38.515278        0          1.404503     5.826532   \n",
       "4      61       0  19.283802        0          4.604493     3.127048   \n",
       "...   ...     ...        ...      ...               ...          ...   \n",
       "2387   43       1  29.059613        0          3.019854     6.119637   \n",
       "2388   18       1  20.740850        0          5.805180     4.386992   \n",
       "2389   54       0  37.079560        0          4.735169     8.214064   \n",
       "2390   46       1  23.444712        0          9.672637     7.362861   \n",
       "2391   26       1  28.123021        1          1.613138     7.412878   \n",
       "\n",
       "      SleepQuality  FamilyHistoryAsthma  LungFunctionFEV1  LungFunctionFVC  \\\n",
       "0         8.701003                    1          1.369051         4.941206   \n",
       "1         5.153966                    0          2.197767         1.702393   \n",
       "2         6.840647                    1          1.698011         5.022553   \n",
       "3         4.253036                    0          3.032037         2.300159   \n",
       "4         9.625799                    0          3.470589         3.067944   \n",
       "...            ...                  ...               ...              ...   \n",
       "2387      8.300960                    0          3.125249         5.166032   \n",
       "2388      7.731192                    0          1.132977         5.509502   \n",
       "2389      7.483521                    0          1.685962         3.346877   \n",
       "2390      6.717272                    1          3.481549         1.713274   \n",
       "2391      8.512253                    1          2.280613         2.453284   \n",
       "\n",
       "      Wheezing  ShortnessOfBreath  Diagnosis  \n",
       "0            0                  0          0  \n",
       "1            1                  0          0  \n",
       "2            1                  1          0  \n",
       "3            1                  0          0  \n",
       "4            1                  1          0  \n",
       "...        ...                ...        ...  \n",
       "2387         0                  1          1  \n",
       "2388         0                  0          1  \n",
       "2389         1                  0          1  \n",
       "2390         0                  1          0  \n",
       "2391         1                  1          0  \n",
       "\n",
       "[2392 rows x 13 columns]"
      ]
     },
     "execution_count": 100,
     "metadata": {},
     "output_type": "execute_result"
    }
   ],
   "source": [
    "df"
   ]
  },
  {
   "cell_type": "code",
   "execution_count": 101,
   "id": "82d8964d-4ddf-4081-85a6-93494d61e65b",
   "metadata": {},
   "outputs": [
    {
     "data": {
      "text/html": [
       "<div>\n",
       "<style scoped>\n",
       "    .dataframe tbody tr th:only-of-type {\n",
       "        vertical-align: middle;\n",
       "    }\n",
       "\n",
       "    .dataframe tbody tr th {\n",
       "        vertical-align: top;\n",
       "    }\n",
       "\n",
       "    .dataframe thead th {\n",
       "        text-align: right;\n",
       "    }\n",
       "</style>\n",
       "<table border=\"1\" class=\"dataframe\">\n",
       "  <thead>\n",
       "    <tr style=\"text-align: right;\">\n",
       "      <th></th>\n",
       "      <th>Age</th>\n",
       "      <th>Gender</th>\n",
       "      <th>BMI</th>\n",
       "      <th>Smoking</th>\n",
       "      <th>PhysicalActivity</th>\n",
       "      <th>DietQuality</th>\n",
       "      <th>SleepQuality</th>\n",
       "      <th>FamilyHistoryAsthma</th>\n",
       "      <th>LungFunctionFEV1</th>\n",
       "      <th>LungFunctionFVC</th>\n",
       "      <th>Wheezing</th>\n",
       "      <th>ShortnessOfBreath</th>\n",
       "      <th>Diagnosis</th>\n",
       "    </tr>\n",
       "  </thead>\n",
       "  <tbody>\n",
       "    <tr>\n",
       "      <th>0</th>\n",
       "      <td>63</td>\n",
       "      <td>0</td>\n",
       "      <td>15.848744</td>\n",
       "      <td>0</td>\n",
       "      <td>0.894448</td>\n",
       "      <td>5.488696</td>\n",
       "      <td>8.701003</td>\n",
       "      <td>1</td>\n",
       "      <td>1.369051</td>\n",
       "      <td>4.941206</td>\n",
       "      <td>0</td>\n",
       "      <td>0</td>\n",
       "      <td>0</td>\n",
       "    </tr>\n",
       "    <tr>\n",
       "      <th>1</th>\n",
       "      <td>26</td>\n",
       "      <td>1</td>\n",
       "      <td>22.757042</td>\n",
       "      <td>0</td>\n",
       "      <td>5.897329</td>\n",
       "      <td>6.341014</td>\n",
       "      <td>5.153966</td>\n",
       "      <td>0</td>\n",
       "      <td>2.197767</td>\n",
       "      <td>1.702393</td>\n",
       "      <td>1</td>\n",
       "      <td>0</td>\n",
       "      <td>0</td>\n",
       "    </tr>\n",
       "    <tr>\n",
       "      <th>2</th>\n",
       "      <td>57</td>\n",
       "      <td>0</td>\n",
       "      <td>18.395396</td>\n",
       "      <td>0</td>\n",
       "      <td>6.739367</td>\n",
       "      <td>9.196237</td>\n",
       "      <td>6.840647</td>\n",
       "      <td>1</td>\n",
       "      <td>1.698011</td>\n",
       "      <td>5.022553</td>\n",
       "      <td>1</td>\n",
       "      <td>1</td>\n",
       "      <td>0</td>\n",
       "    </tr>\n",
       "    <tr>\n",
       "      <th>3</th>\n",
       "      <td>40</td>\n",
       "      <td>1</td>\n",
       "      <td>38.515278</td>\n",
       "      <td>0</td>\n",
       "      <td>1.404503</td>\n",
       "      <td>5.826532</td>\n",
       "      <td>4.253036</td>\n",
       "      <td>0</td>\n",
       "      <td>3.032037</td>\n",
       "      <td>2.300159</td>\n",
       "      <td>1</td>\n",
       "      <td>0</td>\n",
       "      <td>0</td>\n",
       "    </tr>\n",
       "    <tr>\n",
       "      <th>4</th>\n",
       "      <td>61</td>\n",
       "      <td>0</td>\n",
       "      <td>19.283802</td>\n",
       "      <td>0</td>\n",
       "      <td>4.604493</td>\n",
       "      <td>3.127048</td>\n",
       "      <td>9.625799</td>\n",
       "      <td>0</td>\n",
       "      <td>3.470589</td>\n",
       "      <td>3.067944</td>\n",
       "      <td>1</td>\n",
       "      <td>1</td>\n",
       "      <td>0</td>\n",
       "    </tr>\n",
       "    <tr>\n",
       "      <th>...</th>\n",
       "      <td>...</td>\n",
       "      <td>...</td>\n",
       "      <td>...</td>\n",
       "      <td>...</td>\n",
       "      <td>...</td>\n",
       "      <td>...</td>\n",
       "      <td>...</td>\n",
       "      <td>...</td>\n",
       "      <td>...</td>\n",
       "      <td>...</td>\n",
       "      <td>...</td>\n",
       "      <td>...</td>\n",
       "      <td>...</td>\n",
       "    </tr>\n",
       "    <tr>\n",
       "      <th>2387</th>\n",
       "      <td>43</td>\n",
       "      <td>1</td>\n",
       "      <td>29.059613</td>\n",
       "      <td>0</td>\n",
       "      <td>3.019854</td>\n",
       "      <td>6.119637</td>\n",
       "      <td>8.300960</td>\n",
       "      <td>0</td>\n",
       "      <td>3.125249</td>\n",
       "      <td>5.166032</td>\n",
       "      <td>0</td>\n",
       "      <td>1</td>\n",
       "      <td>1</td>\n",
       "    </tr>\n",
       "    <tr>\n",
       "      <th>2388</th>\n",
       "      <td>18</td>\n",
       "      <td>1</td>\n",
       "      <td>20.740850</td>\n",
       "      <td>0</td>\n",
       "      <td>5.805180</td>\n",
       "      <td>4.386992</td>\n",
       "      <td>7.731192</td>\n",
       "      <td>0</td>\n",
       "      <td>1.132977</td>\n",
       "      <td>5.509502</td>\n",
       "      <td>0</td>\n",
       "      <td>0</td>\n",
       "      <td>1</td>\n",
       "    </tr>\n",
       "    <tr>\n",
       "      <th>2389</th>\n",
       "      <td>54</td>\n",
       "      <td>0</td>\n",
       "      <td>37.079560</td>\n",
       "      <td>0</td>\n",
       "      <td>4.735169</td>\n",
       "      <td>8.214064</td>\n",
       "      <td>7.483521</td>\n",
       "      <td>0</td>\n",
       "      <td>1.685962</td>\n",
       "      <td>3.346877</td>\n",
       "      <td>1</td>\n",
       "      <td>0</td>\n",
       "      <td>1</td>\n",
       "    </tr>\n",
       "    <tr>\n",
       "      <th>2390</th>\n",
       "      <td>46</td>\n",
       "      <td>1</td>\n",
       "      <td>23.444712</td>\n",
       "      <td>0</td>\n",
       "      <td>9.672637</td>\n",
       "      <td>7.362861</td>\n",
       "      <td>6.717272</td>\n",
       "      <td>1</td>\n",
       "      <td>3.481549</td>\n",
       "      <td>1.713274</td>\n",
       "      <td>0</td>\n",
       "      <td>1</td>\n",
       "      <td>0</td>\n",
       "    </tr>\n",
       "    <tr>\n",
       "      <th>2391</th>\n",
       "      <td>26</td>\n",
       "      <td>1</td>\n",
       "      <td>28.123021</td>\n",
       "      <td>1</td>\n",
       "      <td>1.613138</td>\n",
       "      <td>7.412878</td>\n",
       "      <td>8.512253</td>\n",
       "      <td>1</td>\n",
       "      <td>2.280613</td>\n",
       "      <td>2.453284</td>\n",
       "      <td>1</td>\n",
       "      <td>1</td>\n",
       "      <td>0</td>\n",
       "    </tr>\n",
       "  </tbody>\n",
       "</table>\n",
       "<p>2392 rows × 13 columns</p>\n",
       "</div>"
      ],
      "text/plain": [
       "      Age  Gender        BMI  Smoking  PhysicalActivity  DietQuality  \\\n",
       "0      63       0  15.848744        0          0.894448     5.488696   \n",
       "1      26       1  22.757042        0          5.897329     6.341014   \n",
       "2      57       0  18.395396        0          6.739367     9.196237   \n",
       "3      40       1  38.515278        0          1.404503     5.826532   \n",
       "4      61       0  19.283802        0          4.604493     3.127048   \n",
       "...   ...     ...        ...      ...               ...          ...   \n",
       "2387   43       1  29.059613        0          3.019854     6.119637   \n",
       "2388   18       1  20.740850        0          5.805180     4.386992   \n",
       "2389   54       0  37.079560        0          4.735169     8.214064   \n",
       "2390   46       1  23.444712        0          9.672637     7.362861   \n",
       "2391   26       1  28.123021        1          1.613138     7.412878   \n",
       "\n",
       "      SleepQuality  FamilyHistoryAsthma  LungFunctionFEV1  LungFunctionFVC  \\\n",
       "0         8.701003                    1          1.369051         4.941206   \n",
       "1         5.153966                    0          2.197767         1.702393   \n",
       "2         6.840647                    1          1.698011         5.022553   \n",
       "3         4.253036                    0          3.032037         2.300159   \n",
       "4         9.625799                    0          3.470589         3.067944   \n",
       "...            ...                  ...               ...              ...   \n",
       "2387      8.300960                    0          3.125249         5.166032   \n",
       "2388      7.731192                    0          1.132977         5.509502   \n",
       "2389      7.483521                    0          1.685962         3.346877   \n",
       "2390      6.717272                    1          3.481549         1.713274   \n",
       "2391      8.512253                    1          2.280613         2.453284   \n",
       "\n",
       "      Wheezing  ShortnessOfBreath  Diagnosis  \n",
       "0            0                  0          0  \n",
       "1            1                  0          0  \n",
       "2            1                  1          0  \n",
       "3            1                  0          0  \n",
       "4            1                  1          0  \n",
       "...        ...                ...        ...  \n",
       "2387         0                  1          1  \n",
       "2388         0                  0          1  \n",
       "2389         1                  0          1  \n",
       "2390         0                  1          0  \n",
       "2391         1                  1          0  \n",
       "\n",
       "[2392 rows x 13 columns]"
      ]
     },
     "execution_count": 101,
     "metadata": {},
     "output_type": "execute_result"
    }
   ],
   "source": [
    "df"
   ]
  },
  {
   "cell_type": "code",
   "execution_count": 102,
   "id": "937d11dc-fdfa-4e96-8604-3066a7da4eae",
   "metadata": {},
   "outputs": [],
   "source": [
    "import pickle"
   ]
  },
  {
   "cell_type": "code",
   "execution_count": 103,
   "id": "67aea60a-17fd-473c-b71e-78af95903ae0",
   "metadata": {},
   "outputs": [],
   "source": [
    "with open('a_model.pkl','wb')as f:\n",
    "  pickle.dump(dcl,f)"
   ]
  },
  {
   "cell_type": "code",
   "execution_count": null,
   "id": "e2472fd1-6128-44eb-9e27-97a134fd1be5",
   "metadata": {},
   "outputs": [],
   "source": []
  },
  {
   "cell_type": "code",
   "execution_count": null,
   "id": "2d034faa-331e-493a-90a2-215206d7e71b",
   "metadata": {},
   "outputs": [],
   "source": []
  }
 ],
 "metadata": {
  "kernelspec": {
   "display_name": "Python 3 (ipykernel)",
   "language": "python",
   "name": "python3"
  },
  "language_info": {
   "codemirror_mode": {
    "name": "ipython",
    "version": 3
   },
   "file_extension": ".py",
   "mimetype": "text/x-python",
   "name": "python",
   "nbconvert_exporter": "python",
   "pygments_lexer": "ipython3",
   "version": "3.12.3"
  }
 },
 "nbformat": 4,
 "nbformat_minor": 5
}
